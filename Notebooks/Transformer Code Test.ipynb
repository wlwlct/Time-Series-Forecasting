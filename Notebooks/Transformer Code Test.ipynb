{
 "cells": [
  {
   "cell_type": "markdown",
   "metadata": {},
   "source": [
    "import warnings\n",
    "warnings.filterwarnings('ignore')\n",
    "\n",
    "import tensorflow as tf\n",
    "tf.random.set_seed(42)\n",
    "import tensorflow_addons as tfa\n",
    "import tensorflow.keras.backend as K\n",
    "import tensorflow.keras.layers as layers\n",
    "from tensorflow.keras.callbacks import Callback, ReduceLROnPlateau, ModelCheckpoint, EarlyStopping\n",
    "\n",
    "device = 'GPU' if 'GPU' in tf.test.gpu_device_name() else 'CPU/TPU'\n",
    "print('Device:', device)\n",
    "\n",
    "import os, gc, random, datetime\n",
    "if device == 'GPU':\n",
    "    import cudf\n",
    "    import cupy as cp\n",
    "import pandas as pd\n",
    "import numpy as np\n",
    "import janestreet\n",
    "import xgboost as xgb\n",
    "import datatable as dtable\n",
    "from hyperopt import hp, fmin, tpe, Trials\n",
    "from hyperopt.pyll.base import scope\n",
    "from sklearn.metrics import roc_auc_score, roc_curve\n",
    "from sklearn.model_selection import GroupKFold\n",
    "import matplotlib.pyplot as plt\n",
    "from tqdm.notebook import tqdm\n",
    "from joblib import dump, load\n",
    "from time import time\n",
    "from numba import njit\n",
    "\n",
    "print(\"Tensorflow version \" + tf.__version__)\n",
    "AUTO = tf.data.experimental.AUTOTUNE"
   ]
  },
  {
   "cell_type": "code",
   "execution_count": null,
   "metadata": {},
   "outputs": [],
   "source": []
  },
  {
   "cell_type": "markdown",
   "metadata": {},
   "source": [
    "PyTorch vs. Keras\n",
    "\n",
    "PyTorch: Mathmeticians, experienced researchers; faster than Keras and has better debugging capabilities, outstanding community support and active development.\n",
    "\n",
    "Keras: developers; a plug-and-play framework that lets them build, train, and evaluate their models quickly. Keras also offers more deployment options and easier model export, offers more deployment options and easier model export, excellent access to reusable code and tutorials, small datasets, rapid prototyping, and multiple back-end support.  It runs on Linux, MacOS, and Windows. \n",
    "\n",
    "\n",
    "\n",
    "|                                  |                     **Keras**                    |            **PyTorch**           |          **TensorFlow**          |\n",
    "|:--------------------------------:|:------------------------------------------------:|:--------------------------------:|:--------------------------------:|\n",
    "|           **API Level**          |                       High                       |                Low               |           High and Low           |\n",
    "|         **Architecture**         |             Simple, concise, readable            |      Complex, less readable      |          Not easy to use         |\n",
    "|           **Datasets**           |                 Smaller datasets                 | Large datasets, high performance | Large datasets, high performance |\n",
    "|           **Debugging**          | Simple network, so debugging is not often needed |    Good debugging capabilities   |  Difficult to conduct debugging  |\n",
    "| **Does It Have Trained Models?** |                        Yes                       |                Yes               |                Yes               |\n",
    "|          **Popularity**          |                   Most popular                   |        Third most popular        |        Second most popular       |\n",
    "|             **Speed**            |               Slow, low performance              |      Fast, high-performance      |      Fast, high-performance      |\n",
    "|          **Written In**          |                      Python                      |                Lua               |         C++, CUDA, Python        |\n",
    "\n",
    "\n",
    "\n",
    "Reference: https://www.simplilearn.com/keras-vs-tensorflow-vs-pytorch-article#:~:text=TensorFlow%20offers%20better%20visualization%2C%20which,to%20the%20TensorFlow%20Serving%20framework."
   ]
  },
  {
   "cell_type": "markdown",
   "metadata": {},
   "source": []
  },
  {
   "cell_type": "code",
   "execution_count": 3,
   "metadata": {},
   "outputs": [],
   "source": [
    "import pandas as pd\n"
   ]
  },
  {
   "cell_type": "code",
   "execution_count": null,
   "metadata": {},
   "outputs": [],
   "source": []
  }
 ],
 "metadata": {
  "kernelspec": {
   "display_name": "Python 3.8.8 ('base')",
   "language": "python",
   "name": "python3"
  },
  "language_info": {
   "codemirror_mode": {
    "name": "ipython",
    "version": 3
   },
   "file_extension": ".py",
   "mimetype": "text/x-python",
   "name": "python",
   "nbconvert_exporter": "python",
   "pygments_lexer": "ipython3",
   "version": "3.8.8"
  },
  "orig_nbformat": 4,
  "vscode": {
   "interpreter": {
    "hash": "40d3a090f54c6569ab1632332b64b2c03c39dcf918b08424e98f38b5ae0af88f"
   }
  }
 },
 "nbformat": 4,
 "nbformat_minor": 2
}
