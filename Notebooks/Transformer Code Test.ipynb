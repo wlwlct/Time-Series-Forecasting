{
  "cells": [
    {
      "cell_type": "markdown",
      "metadata": {
        "id": "i5fvqBZU7HQf"
      },
      "source": [
        "PyTorch vs. Keras\n",
        "\n",
        "PyTorch: Mathmeticians, experienced researchers; faster than Keras and has better debugging capabilities, outstanding community support and active development.\n",
        "\n",
        "Keras: developers; a plug-and-play framework that lets them build, train, and evaluate their models quickly. Keras also offers more deployment options and easier model export, offers more deployment options and easier model export, excellent access to reusable code and tutorials, small datasets, rapid prototyping, and multiple back-end support.  It runs on Linux, MacOS, and Windows. \n",
        "\n",
        "\n",
        "\n",
        "|                                  |                     **Keras**                    |            **PyTorch**           |          **TensorFlow**          |\n",
        "|:--------------------------------:|:------------------------------------------------:|:--------------------------------:|:--------------------------------:|\n",
        "|           **API Level**          |                       High                       |                Low               |           High and Low           |\n",
        "|         **Architecture**         |             Simple, concise, readable            |      Complex, less readable      |          Not easy to use         |\n",
        "|           **Datasets**           |                 Smaller datasets                 | Large datasets, high performance | Large datasets, high performance |\n",
        "|           **Debugging**          | Simple network, so debugging is not often needed |    Good debugging capabilities   |  Difficult to conduct debugging  |\n",
        "| **Does It Have Trained Models?** |                        Yes                       |                Yes               |                Yes               |\n",
        "|          **Popularity**          |                   Most popular                   |        Third most popular        |        Second most popular       |\n",
        "|             **Speed**            |               Slow, low performance              |      Fast, high-performance      |      Fast, high-performance      |\n",
        "|          **Written In**          |                      Python                      |                Lua               |         C++, CUDA, Python        |\n",
        "\n",
        "\n",
        "\n",
        "Reference: https://www.simplilearn.com/keras-vs-tensorflow-vs-pytorch-article#:~:text=TensorFlow%20offers%20better%20visualization%2C%20which,to%20the%20TensorFlow%20Serving%20framework."
      ]
    },
    {
      "cell_type": "markdown",
      "metadata": {
        "id": "LWi7CmxA7HQh"
      },
      "source": [
        "### Import package"
      ]
    },
    {
      "cell_type": "code",
      "execution_count": 1,
      "metadata": {
        "id": "iY9XRd7B7HQi"
      },
      "outputs": [],
      "source": [
        "import datetime\n",
        "import pandas as pd\n",
        "import matplotlib.pyplot as plt\n",
        "from pandas_datareader import data\n",
        "import tensorflow as tf\n",
        "import pandas as pd  \n",
        "import numpy as np\n",
        "from  sklearn.preprocessing import MinMaxScaler\n",
        "import numpy as np\n",
        "import torch\n",
        "import torch.nn as nn\n",
        "import torch.nn.functional as F\n",
        "import math, copy, time\n",
        "from torch.autograd import Variable\n",
        "import matplotlib.pyplot as plt\n",
        "import seaborn\n",
        "seaborn.set_context(context=\"talk\")"
      ]
    },
    {
      "cell_type": "markdown",
      "metadata": {
        "id": "yDJOFz0A7HQj"
      },
      "source": [
        "## Generate Train and Test"
      ]
    },
    {
      "cell_type": "code",
      "execution_count": 2,
      "metadata": {
        "id": "VnJTBbT-7HQj"
      },
      "outputs": [],
      "source": [
        "SNP = pd.read_csv('../Data/raw/SNPTSX.csv', parse_dates=['Date'])\n",
        "SNP.drop(columns=['Open', 'High', 'Low', 'Close', 'Volume'], inplace=True)"
      ]
    },
    {
      "cell_type": "code",
      "execution_count": 3,
      "metadata": {
        "colab": {
          "base_uri": "https://localhost:8080/",
          "height": 321
        },
        "id": "W_Kuk0oT7HQj",
        "outputId": "9f669717-cbca-43fa-8b83-b88fe4e3e44f"
      },
      "outputs": [
        {
          "data": {
            "text/plain": [
              "<matplotlib.axes._subplots.AxesSubplot at 0x7fbf8b8b2450>"
            ]
          },
          "execution_count": 3,
          "metadata": {},
          "output_type": "execute_result"
        },
        {
          "data": {
            "image/png": "[encoded data removed]",
            "text/plain": [
              "<Figure size 432x288 with 1 Axes>"
            ]
          },
          "metadata": {
            "needs_background": "light"
          },
          "output_type": "display_data"
        }
      ],
      "source": [
        "SNP.set_index('Date').plot()"
      ]
    },
    {
      "cell_type": "code",
      "execution_count": 4,
      "metadata": {
        "id": "3n2JTqvp7HQk"
      },
      "outputs": [],
      "source": [
        "dataset = SNP.set_index('Date').loc['2016-01-01':'2017-01-31','Adj Close']\n",
        "dataset = np.array(dataset.astype('float32')).reshape(-1,1)"
      ]
    },
    {
      "cell_type": "code",
      "execution_count": 5,
      "metadata": {
        "colab": {
          "base_uri": "https://localhost:8080/",
          "height": 297
        },
        "id": "1gH_le6-8KFD",
        "outputId": "760e8886-045b-43ad-a80a-2d1b3058fb4c"
      },
      "outputs": [
        {
          "data": {
            "text/plain": [
              "[<matplotlib.lines.Line2D at 0x7fbf8b7ae990>]"
            ]
          },
          "execution_count": 5,
          "metadata": {},
          "output_type": "execute_result"
        },
        {
          "data": {
            "image/png": "[encoded data removed]",
            "text/plain": [
              "<Figure size 432x288 with 1 Axes>"
            ]
          },
          "metadata": {
            "needs_background": "light"
          },
          "output_type": "display_data"
        }
      ],
      "source": [
        "plt.plot(dataset)"
      ]
    },
    {
      "cell_type": "markdown",
      "metadata": {
        "id": "BGRsGTJ87HQl"
      },
      "source": [
        "## Train Model"
      ]
    },
    {
      "cell_type": "code",
      "execution_count": 6,
      "metadata": {
        "colab": {
          "base_uri": "https://localhost:8080/"
        },
        "id": "QuhNlsjb7HQl",
        "outputId": "ae25e757-da8b-440e-e5c9-a5fd26f15e1c"
      },
      "outputs": [
        {
          "name": "stdout",
          "output_type": "stream",
          "text": [
            "244 28\n"
          ]
        }
      ],
      "source": [
        "def norm(x):\n",
        "    return (x-np.min(x))/(np.max(x)-np.min(x))\n",
        "\n",
        "dataset=norm(dataset)\n",
        "\n",
        "look_back=8\n",
        "np.random.seed(7)\n",
        "train_size = int(len(dataset) * 0.9)\n",
        "test_size = len(dataset) - train_size\n",
        "train, test = dataset[0:train_size,:], dataset[train_size:len(dataset),:]\n",
        "print(len(train), len(test))\n",
        "\n",
        "def create_dataset(dataset, look_back=look_back):\n",
        "\tdataX, dataY = [], []\n",
        "\tfor i in range(len(dataset)-look_back):\n",
        "\t\ta = dataset[i:(i+look_back), 0]\n",
        "\t\tdataX.append(a)\n",
        "\t\tdataY.append(dataset[i + look_back, 0])\n",
        "\treturn np.array(dataX), np.array(dataY)\n",
        "\n",
        "trainX, trainY = create_dataset(train, look_back)\n",
        "testX, testY = create_dataset(test, look_back)\n",
        "\n",
        "\n",
        "X0=trainX[0:-2]\n",
        "Y0=trainX[1:-1]\n",
        "\n",
        "X0=X0.reshape(X0.shape[0],X0.shape[1],1).astype(np.float32)\n",
        "Y0=Y0.reshape(Y0.shape[0],Y0.shape[1],1).astype(np.float32)"
      ]
    },
    {
      "cell_type": "code",
      "execution_count": 7,
      "metadata": {
        "id": "Xjefks8H7HQm"
      },
      "outputs": [],
      "source": [
        "\n",
        "class EncoderDecoder(nn.Module):\n",
        "    \"\"\"\n",
        "    A standard Encoder-Decoder architecture. Base for this and many \n",
        "    other models.\n",
        "    \"\"\"\n",
        "    def __init__(self, encoder, decoder, src_embed, tgt_embed, generator):\n",
        "        super(EncoderDecoder, self).__init__()\n",
        "        self.encoder = encoder\n",
        "        self.decoder = decoder\n",
        "        self.src_embed = src_embed\n",
        "        self.tgt_embed = tgt_embed\n",
        "        self.generator = generator\n",
        "        \n",
        "    def forward(self, src, tgt, src_mask, tgt_mask):\n",
        "        \"Take in and process masked src and target sequences.\"\n",
        "        return self.decode(self.encode(src, src_mask), src_mask,\n",
        "                            tgt, tgt_mask)\n",
        "    \n",
        "    def encode(self, src, src_mask):\n",
        "        return self.encoder(self.src_embed(src), src_mask)\n",
        "    \n",
        "    def decode(self, memory, src_mask, tgt, tgt_mask):\n",
        "        return self.decoder(self.tgt_embed(tgt), memory, src_mask, tgt_mask)\n",
        "import torch.nn.functional as F\n",
        "\n",
        "class Generator(nn.Module):\n",
        "    \"Define standard linear + softmax generation step.\"\n",
        "    def __init__(self, d_model, vocab):\n",
        "        super(Generator, self).__init__()\n",
        "        self.proj = nn.Linear(d_model, 8)\n",
        "\n",
        "    def forward(self, x):\n",
        "        return F.relu(self.proj(x))\n",
        "        \n",
        "        \n",
        "def clones(module, N):\n",
        "    \"Produce N identical layers.\"\n",
        "    return nn.ModuleList([copy.deepcopy(module) for _ in range(N)])\n",
        "\n",
        "class Encoder(nn.Module):\n",
        "    \"Core encoder is a stack of N layers\"\n",
        "    def __init__(self, layer, N):\n",
        "        super(Encoder, self).__init__()\n",
        "        self.layers = clones(layer, N)\n",
        "        self.norm = LayerNorm(layer.size)\n",
        "        \n",
        "    def forward(self, x, mask):\n",
        "        \"Pass the input (and mask) through each layer in turn.\"\n",
        "        for layer in self.layers:\n",
        "            x = layer(x, mask)\n",
        "        return self.norm(x)\n",
        "\n",
        "class LayerNorm(nn.Module):\n",
        "    \"Construct a layernorm module (See citation for details).\"\n",
        "    def __init__(self, features, eps=1e-6):\n",
        "        super(LayerNorm, self).__init__()\n",
        "        self.a_2 = nn.Parameter(torch.ones(features))\n",
        "        self.b_2 = nn.Parameter(torch.zeros(features))\n",
        "        self.eps = eps\n",
        "\n",
        "    def forward(self, x):\n",
        "        mean = x.mean(-1, keepdim=True)\n",
        "        std = x.std(-1, keepdim=True)\n",
        "        return self.a_2 * (x - mean) / (std + self.eps) + self.b_2\n",
        "\n",
        "class SublayerConnection(nn.Module):\n",
        "    \"\"\"\n",
        "    A residual connection followed by a layer norm.\n",
        "    Note for code simplicity the norm is first as opposed to last.\n",
        "    \"\"\"\n",
        "    def __init__(self, size, dropout):\n",
        "        super(SublayerConnection, self).__init__()\n",
        "        self.norm = LayerNorm(size)\n",
        "        self.dropout = nn.Dropout(dropout)\n",
        "\n",
        "    def forward(self, x, sublayer):\n",
        "        \"Apply residual connection to any sublayer with the same size.\"\n",
        "        return x + self.dropout(sublayer(self.norm(x)))\n",
        "\n",
        "\n",
        "class EncoderLayer(nn.Module):\n",
        "    \"Encoder is made up of self-attn and feed forward (defined below)\"\n",
        "    def __init__(self, size, self_attn, feed_forward, dropout):\n",
        "        super(EncoderLayer, self).__init__()\n",
        "        self.self_attn = self_attn\n",
        "        self.feed_forward = feed_forward\n",
        "        self.sublayer = clones(SublayerConnection(size, dropout), 2)\n",
        "        self.size = size\n",
        "\n",
        "    def forward(self, x, mask):\n",
        "        \"Follow Figure 1 (left) for connections.\"\n",
        "        x = self.sublayer[0](x, lambda x: self.self_attn(x, x, x, mask))\n",
        "        return self.sublayer[1](x, self.feed_forward)\n",
        "\n",
        "class Decoder(nn.Module):\n",
        "    \"Generic N layer decoder with masking.\"\n",
        "    def __init__(self, layer, N):\n",
        "        super(Decoder, self).__init__()\n",
        "        self.layers = clones(layer, N)\n",
        "        self.norm = LayerNorm(layer.size)\n",
        "        \n",
        "    def forward(self, x, memory, src_mask, tgt_mask):\n",
        "        for layer in self.layers:\n",
        "            x = layer(x, memory, src_mask, tgt_mask)\n",
        "        return self.norm(x)\n",
        "\n",
        "\n",
        "class DecoderLayer(nn.Module):\n",
        "    \"Decoder is made of self-attn, src-attn, and feed forward (defined below)\"\n",
        "    def __init__(self, size, self_attn, src_attn, feed_forward, dropout):\n",
        "        super(DecoderLayer, self).__init__()\n",
        "        self.size = size\n",
        "        self.self_attn = self_attn\n",
        "        self.src_attn = src_attn\n",
        "        self.feed_forward = feed_forward\n",
        "        self.sublayer = clones(SublayerConnection(size, dropout), 3)\n",
        " \n",
        "    def forward(self, x, memory, src_mask, tgt_mask):\n",
        "        \"Follow Figure 1 (right) for connections.\"\n",
        "        m = memory\n",
        "        x = self.sublayer[0](x, lambda x: self.self_attn(x, x, x, tgt_mask))\n",
        "        x = self.sublayer[1](x, lambda x: self.src_attn(x, m, m, src_mask))\n",
        "        return self.sublayer[2](x, self.feed_forward)\n",
        "\n",
        "def subsequent_mask(size):\n",
        "    \"Mask out subsequent positions.\"\n",
        "    attn_shape = (1, size, size)\n",
        "    subsequent_mask = np.triu(np.ones(attn_shape), k=1).astype('float32')\n",
        "    return torch.from_numpy(subsequent_mask) == 0\n",
        "\n",
        "\n",
        "def attention(query, key, value, mask=None, dropout=None):\n",
        "    \"Compute 'Scaled Dot Product Attention'\"\n",
        "    d_k = query.size(-1)\n",
        "    scores = torch.matmul(query, key.transpose(-2, -1)) \\\n",
        "             / math.sqrt(d_k)\n",
        "    if mask is not None:\n",
        "        scores = scores.masked_fill(mask == 0, -1e9)\n",
        "    p_attn = F.softmax(scores, dim = -1)\n",
        "    if dropout is not None:\n",
        "        p_attn = dropout(p_attn)\n",
        "    return torch.matmul(p_attn, value), p_attn\n",
        "\n",
        "class MultiHeadedAttention(nn.Module):\n",
        "    def __init__(self, h, d_model, dropout=0.1):\n",
        "        \"Take in model size and number of heads.\"\n",
        "        super(MultiHeadedAttention, self).__init__()\n",
        "        assert d_model % h == 0\n",
        "        self.d_k = d_model // h\n",
        "        self.h = h\n",
        "        self.linears = clones(nn.Linear(d_model, d_model), 4)\n",
        "        self.attn = None\n",
        "        self.dropout = nn.Dropout(p=dropout)\n",
        "        \n",
        "    def forward(self, query, key, value, mask=None):\n",
        "        \"Implements Figure 2\"\n",
        "        if mask is not None:\n",
        "            mask = mask.unsqueeze(1)\n",
        "        nbatches = query.size(0)\n",
        "        \n",
        "        query, key, value = \\\n",
        "            [l(x).view(nbatches, -1, self.h, self.d_k).transpose(1, 2)\n",
        "             for l, x in zip(self.linears, (query, key, value))]\n",
        "        \n",
        "        x, self.attn = attention(query, key, value, mask=mask, \n",
        "                                 dropout=self.dropout)\n",
        "        \n",
        "        x = x.transpose(1, 2).contiguous() \\\n",
        "             .view(nbatches, -1, self.h * self.d_k)\n",
        "        return self.linears[-1](x)\n",
        "\n",
        "\n",
        "class PositionwiseFeedForward(nn.Module):\n",
        "    \"Implements FFN equation.\"\n",
        "    def __init__(self, d_model, d_ff, dropout=0.1):\n",
        "        super(PositionwiseFeedForward, self).__init__()\n",
        "        self.w_1 = nn.Linear(d_model, d_ff)\n",
        "        self.w_2 = nn.Linear(d_ff, d_model)\n",
        "        self.dropout = nn.Dropout(dropout)\n",
        "\n",
        "    def forward(self, x):\n",
        "        return self.w_2(self.dropout(F.relu(self.w_1(x))))\n",
        "\n",
        "class Embeddings1(nn.Module):\n",
        "    def __init__(self, d_model, vocab):\n",
        "        super(Embeddings1, self).__init__()\n",
        "        self.d_model = d_model\n",
        " \n",
        "    def forward(self, x):\n",
        "        return torch.cat(4*[x]).reshape(-1,8,self.d_model)  * math.sqrt(self.d_model)\n",
        " \n",
        "class Embeddings2(nn.Module):\n",
        "    def __init__(self, d_model, vocab):\n",
        "        super(Embeddings2, self).__init__()\n",
        "        self.d_model = d_model\n",
        " \n",
        "    def forward(self, x):\n",
        "        return torch.cat(4*[x]).reshape(-1,7,self.d_model)  * math.sqrt(self.d_model)\n",
        "\n",
        "class PositionalEncoding(nn.Module):\n",
        "    \"Implement the PE function.\"\n",
        "    def __init__(self, d_model, dropout, max_len=5000):\n",
        "        super(PositionalEncoding, self).__init__()\n",
        "        self.dropout = nn.Dropout(p=dropout)\n",
        "        \n",
        "        pe = torch.zeros(max_len, d_model)\n",
        "        position = torch.arange(0, max_len).unsqueeze(1)\n",
        "        div_term = torch.exp(torch.arange(0, d_model, 2) *\n",
        "                             -(math.log(10000.0) / d_model))\n",
        "        pe[:, 0::2] = torch.sin(position * div_term)\n",
        "        pe[:, 1::2] = torch.cos(position * div_term)\n",
        "        pe = pe.unsqueeze(0)\n",
        "        self.register_buffer('pe', pe)\n",
        "        \n",
        "    def forward(self, x):\n",
        "        return x\n",
        "\n",
        "\n",
        "def make_model(src_vocab, tgt_vocab, N=2, \n",
        "               d_model=4, d_ff=32, h=4, dropout=0.1):\n",
        "    \"Helper: Construct a model from hyperparameters.\"\n",
        "    c = copy.deepcopy\n",
        "    attn = MultiHeadedAttention(h, d_model)\n",
        "    ff = PositionwiseFeedForward(d_model, d_ff, dropout)\n",
        "    position = PositionalEncoding(d_model, dropout)\n",
        "    model = EncoderDecoder(\n",
        "        Encoder(EncoderLayer(d_model, c(attn), c(ff), dropout), N),\n",
        "        Decoder(DecoderLayer(d_model, c(attn), c(attn), \n",
        "                             c(ff), dropout), N),\n",
        "        nn.Sequential(Embeddings1(d_model, src_vocab), c(position)),\n",
        "        nn.Sequential(Embeddings2(d_model, tgt_vocab), c(position)),\n",
        "        Generator(d_model, tgt_vocab))\n",
        "    \n",
        "    for p in model.parameters():\n",
        "        if p.dim() > 1:\n",
        "            nn.init.xavier_uniform(p)\n",
        "    return model\n",
        "\n",
        "\n",
        "class Batch:\n",
        "    \"Object for holding a batch of data with mask during training.\"\n",
        "    def __init__(self, src, trg=None, pad=0):\n",
        "        self.src = src\n",
        "        self.src_mask = (src != pad).unsqueeze(-2)\n",
        "        if trg is not None:\n",
        "            self.trg = trg[:, :-1]\n",
        "            self.trg_y = trg[:, 1:]\n",
        "            self.trg_mask = \\\n",
        "                self.make_std_mask(self.trg, pad)\n",
        "            self.ntokens = (self.trg_y != pad).data.sum()\n",
        "    \n",
        "    @staticmethod\n",
        "    def make_std_mask(tgt, pad):\n",
        "        \"Create a mask to hide padding and future words.\"\n",
        "        tgt_mask = (tgt != pad).unsqueeze(-2)\n",
        "        tgt_mask = tgt_mask & Variable(\n",
        "            subsequent_mask(tgt.size(-1)).type_as(tgt_mask.data))\n",
        "        return tgt_mask\n",
        "\n",
        "def run_epoch(data_iter, model, loss_compute):\n",
        "    \"Standard Training and Logging Function\"\n",
        "    start = time.time()\n",
        "    total_tokens = 0\n",
        "    total_loss = 0\n",
        "    tokens = 0\n",
        "    for i, batch in enumerate(data_iter):\n",
        "        out = model.forward(batch.src, batch.trg, \n",
        "                            batch.src_mask, batch.trg_mask)\n",
        "        loss = loss_compute(out, batch.trg_y, batch.ntokens)\n",
        "        total_loss += loss\n",
        "        total_tokens += batch.ntokens\n",
        "        tokens += batch.ntokens\n",
        "        if i % 50 == 1:\n",
        "            elapsed = time.time() - start\n",
        "            print(\"Epoch Step: %d Loss: %f Tokens per Sec: %f\" %\n",
        "                    (i, loss / batch.ntokens, tokens / elapsed))\n",
        "            start = time.time()\n",
        "            tokens = 0\n",
        "    return total_loss #/ total_tokens\n",
        "\n",
        "global max_src_in_batch, max_tgt_in_batch\n",
        "def batch_size_fn(new, count, sofar):\n",
        "    \"Keep augmenting batch and calculate total number of tokens + padding.\"\n",
        "    global max_src_in_batch, max_tgt_in_batch\n",
        "    if count == 1:\n",
        "        max_src_in_batch = 0\n",
        "        max_tgt_in_batch = 0\n",
        "    max_src_in_batch = max(max_src_in_batch,  len(new.src))\n",
        "    max_tgt_in_batch = max(max_tgt_in_batch,  len(new.trg) + 2)\n",
        "    src_elements = count * max_src_in_batch\n",
        "    tgt_elements = count * max_tgt_in_batch\n",
        "    return max(src_elements, tgt_elements)\n",
        "\n",
        "class NoamOpt:\n",
        "    \"Optim wrapper that implements rate.\"\n",
        "    def __init__(self, model_size, factor, warmup, optimizer):\n",
        "        self.optimizer = optimizer\n",
        "        self._step = 0\n",
        "        self.warmup = warmup\n",
        "        self.factor = factor\n",
        "        self.model_size = model_size\n",
        "        self._rate = 0\n",
        "        \n",
        "    def step(self):\n",
        "        \"Update parameters and rate\"\n",
        "        self._step += 1\n",
        "        for p in self.optimizer.param_groups:\n",
        "            p['lr'] = learning\n",
        "        self._rate = learning\n",
        "        self.optimizer.step()\n",
        "        \n",
        "        \n",
        "def get_std_opt(model):\n",
        "    return NoamOpt(model.src_embed[0].d_model, 2, 4000,\n",
        "            torch.optim.Adam(model.parameters(), lr=0.01, betas=(0.9, 0.98), eps=1e-9))\n",
        "\n",
        "\n",
        "def data_gen(V, batch, nbatches):\n",
        "    \"Generate random data for a src-tgt copy task.\"\n",
        "    for i in range(nbatches):\n",
        "        data1 = torch.from_numpy(X0.reshape(X0.shape[0]\n",
        ",8))#.long()\n",
        "        data1[:, 0] = 1\n",
        "        data2 = torch.from_numpy(Y0.reshape(X0.shape[0]\n",
        ",8))#.long()\n",
        "        data2[:, 0] = 1\n",
        "        src = Variable(data1, requires_grad=False)\n",
        "        tgt = Variable(data2, requires_grad=False)\n",
        "        yield Batch(src, tgt, 0)\n",
        "\n",
        "\n",
        "class SimpleLossCompute:\n",
        "    \"A simple loss compute and train function.\"\n",
        "    def __init__(self, generator, criterion, opt=None):\n",
        "        self.generator = generator\n",
        "        self.criterion = criterion \n",
        "        self.opt = opt\n",
        "        \n",
        "    def __call__(self, x, y, norm):\n",
        "        x = self.generator(x)\n",
        "        x=torch.sum(x.reshape(X0.shape[0]\n",
        ",7,-1), (2))\n",
        "        loss = self.criterion(torch.sum(x,(0)), \n",
        "                              torch.sum(y,(0))) #/ norm\n",
        "        if loss<0.01:\n",
        "            learning=learning/3\n",
        "\n",
        "        loss.backward()\n",
        "        if self.opt is not None:\n",
        "            self.opt.step()\n",
        "            self.opt.optimizer.zero_grad()\n",
        "        return loss.data #* norm"
      ]
    },
    {
      "cell_type": "code",
      "execution_count": 8,
      "metadata": {
        "colab": {
          "base_uri": "https://localhost:8080/"
        },
        "id": "lGvjE8yh7HQo",
        "outputId": "57e53f4c-494b-4937-893c-89526448fc85"
      },
      "outputs": [
        {
          "name": "stdout",
          "output_type": "stream",
          "text": [
            "1.12.1+cu113\n"
          ]
        },
        {
          "name": "stderr",
          "output_type": "stream",
          "text": [
            "/usr/local/lib/python3.7/dist-packages/ipykernel_launcher.py:236: UserWarning: nn.init.xavier_uniform is now deprecated in favor of nn.init.xavier_uniform_.\n"
          ]
        }
      ],
      "source": [
        "print(torch.__version__)\n",
        "\n",
        "V = 200\n",
        "criterion = nn.MSELoss()\n",
        "learning=0.001\n",
        "model = make_model(V, V, N=2)"
      ]
    },
    {
      "cell_type": "code",
      "execution_count": 9,
      "metadata": {
        "id": "7D9NAHD57HQo"
      },
      "outputs": [],
      "source": [
        "model_opt = NoamOpt(model.src_embed[0].d_model, 10, 400,\n",
        "        torch.optim.Adam(model.parameters(), lr=learning, betas=(0.9, 0.98), eps=1e-9))"
      ]
    },
    {
      "cell_type": "code",
      "execution_count": 10,
      "metadata": {
        "colab": {
          "base_uri": "https://localhost:8080/"
        },
        "id": "7dfabFmI7HQp",
        "outputId": "74a3fef5-677c-4cc1-a863-420d2a8062d2"
      },
      "outputs": [
        {
          "name": "stdout",
          "output_type": "stream",
          "text": [
            "Epoch Step: 1 Loss: 134.164627 Tokens per Sec: 12374.883789\n",
            "Epoch Step: 1 Loss: 27.103107 Tokens per Sec: 16738.566406\n",
            "Epoch Step: 1 Loss: 10.167569 Tokens per Sec: 18468.554688\n",
            "Epoch Step: 1 Loss: 4.420647 Tokens per Sec: 17869.851562\n",
            "Epoch Step: 1 Loss: 1.441610 Tokens per Sec: 19237.140625\n",
            "Epoch Step: 1 Loss: 0.225763 Tokens per Sec: 15721.657227\n",
            "Epoch Step: 1 Loss: 0.057758 Tokens per Sec: 22387.447266\n",
            "Epoch Step: 1 Loss: 0.053746 Tokens per Sec: 15306.394531\n",
            "Epoch Step: 1 Loss: 0.039877 Tokens per Sec: 36361.609375\n",
            "Epoch Step: 1 Loss: 0.057055 Tokens per Sec: 34090.941406\n",
            "Epoch Step: 1 Loss: 0.025881 Tokens per Sec: 38345.261719\n",
            "Epoch Step: 1 Loss: 0.039588 Tokens per Sec: 37695.324219\n",
            "Epoch Step: 1 Loss: 0.029697 Tokens per Sec: 31073.011719\n",
            "Epoch Step: 1 Loss: 0.027671 Tokens per Sec: 30927.753906\n",
            "Epoch Step: 1 Loss: 0.015173 Tokens per Sec: 32478.171875\n",
            "Epoch Step: 1 Loss: 0.029581 Tokens per Sec: 34107.171875\n",
            "Epoch Step: 1 Loss: 0.011429 Tokens per Sec: 32981.511719\n",
            "Epoch Step: 1 Loss: 0.016047 Tokens per Sec: 34462.585938\n",
            "Epoch Step: 1 Loss: 0.022241 Tokens per Sec: 32102.027344\n",
            "Epoch Step: 1 Loss: 0.014416 Tokens per Sec: 32183.050781\n",
            "Epoch Step: 1 Loss: 0.009166 Tokens per Sec: 34489.519531\n",
            "Epoch Step: 1 Loss: 0.010516 Tokens per Sec: 37587.726562\n",
            "Epoch Step: 1 Loss: 0.013360 Tokens per Sec: 35584.144531\n",
            "Epoch Step: 1 Loss: 0.009016 Tokens per Sec: 34201.042969\n",
            "Epoch Step: 1 Loss: 0.003841 Tokens per Sec: 34671.046875\n",
            "Epoch Step: 1 Loss: 0.002385 Tokens per Sec: 37420.769531\n",
            "Epoch Step: 1 Loss: 0.002074 Tokens per Sec: 37238.664062\n",
            "Epoch Step: 1 Loss: 0.005648 Tokens per Sec: 37943.500000\n",
            "Epoch Step: 1 Loss: 0.007935 Tokens per Sec: 30696.753906\n",
            "Epoch Step: 1 Loss: 0.004934 Tokens per Sec: 38103.171875\n",
            "Epoch Step: 1 Loss: 0.002092 Tokens per Sec: 35009.414062\n",
            "Epoch Step: 1 Loss: 0.001242 Tokens per Sec: 30526.285156\n",
            "Epoch Step: 1 Loss: 0.000389 Tokens per Sec: 32866.316406\n",
            "Epoch Step: 1 Loss: 0.000926 Tokens per Sec: 32489.046875\n",
            "Epoch Step: 1 Loss: 0.000839 Tokens per Sec: 37165.730469\n",
            "Epoch Step: 1 Loss: 0.001201 Tokens per Sec: 30855.912109\n",
            "Epoch Step: 1 Loss: 0.000410 Tokens per Sec: 30008.992188\n",
            "Epoch Step: 1 Loss: 0.000189 Tokens per Sec: 30084.611328\n",
            "Epoch Step: 1 Loss: 0.001172 Tokens per Sec: 32942.519531\n",
            "Epoch Step: 1 Loss: 0.001297 Tokens per Sec: 34382.566406\n"
          ]
        }
      ],
      "source": [
        "error_cov ={}\n",
        "for epoch in range(40):\n",
        "    #model.train()\n",
        "    loss = run_epoch(data_gen(V, 30, 20), model, \n",
        "              SimpleLossCompute(model.generator, criterion, model_opt))\n",
        "    error_cov[epoch]=loss.detach()\n"
      ]
    },
    {
      "cell_type": "code",
      "execution_count": 11,
      "metadata": {
        "colab": {
          "base_uri": "https://localhost:8080/",
          "height": 297
        },
        "id": "LLhxLURzB4Dv",
        "outputId": "359cce11-2d64-4119-b998-0ca96c1927e6"
      },
      "outputs": [
        {
          "data": {
            "text/plain": [
              "[<matplotlib.lines.Line2D at 0x7fbf8b284d50>]"
            ]
          },
          "execution_count": 11,
          "metadata": {},
          "output_type": "execute_result"
        },
        {
          "data": {
            "image/png": "[encoded data removed]",
            "text/plain": [
              "<Figure size 432x288 with 1 Axes>"
            ]
          },
          "metadata": {
            "needs_background": "light"
          },
          "output_type": "display_data"
        }
      ],
      "source": [
        "plt.plot(list(error_cov.keys())[-20:], list(error_cov.values())[-20:])"
      ]
    },
    {
      "cell_type": "code",
      "execution_count": 12,
      "metadata": {
        "id": "tFxdekJp7HQp"
      },
      "outputs": [],
      "source": [
        "def greedy_decode(model, src, src_mask, max_len, start_symbol):\n",
        "    memory = model.encode(src, src_mask)\n",
        "    ys = torch.ones(1, 7).fill_(start_symbol).type_as(src.data)\n",
        "    for i in range(8-1):\n",
        "        out = model.decode(memory, src_mask, \n",
        "                           Variable(ys), \n",
        "                           Variable(subsequent_mask(ys.size(1))\n",
        "                                    .type_as(src.data)))\n",
        "        prob = torch.sum(src*torch.sum(model.generator(out),(1)))\n",
        "    return prob"
      ]
    },
    {
      "cell_type": "code",
      "execution_count": 13,
      "metadata": {
        "id": "EUQZtXTR7HQp"
      },
      "outputs": [],
      "source": [
        "PATH = './pytorch_time_series_model_loss_OK_norm.pth'\n",
        "\n",
        "torch.save(model.state_dict(), PATH)\n",
        "\n",
        "X0=trainX[0:-2]\n",
        "Y0=trainX[1:-1]\n",
        "\n",
        "X0=X0.reshape(X0.shape[0],X0.shape[1],1).astype(np.float32)\n",
        "Y0=Y0.reshape(Y0.shape[0],Y0.shape[1],1).astype(np.float32)"
      ]
    },
    {
      "cell_type": "code",
      "execution_count": 14,
      "metadata": {
        "colab": {
          "base_uri": "https://localhost:8080/"
        },
        "id": "kDBFLMWF7HQq",
        "outputId": "80cc8105-e163-4ab6-c79e-87e5971305e0"
      },
      "outputs": [
        {
          "data": {
            "text/plain": [
              "((234, 8, 1), (234, 8, 1))"
            ]
          },
          "execution_count": 14,
          "metadata": {},
          "output_type": "execute_result"
        }
      ],
      "source": [
        "X0.shape, Y0.shape"
      ]
    },
    {
      "cell_type": "code",
      "execution_count": 15,
      "metadata": {
        "id": "ZpbHfsWY7HQq"
      },
      "outputs": [],
      "source": [
        "place=100\n",
        "\n",
        "X0=X0[place]\n",
        "Y0=[Y0[place][0:7].reshape(1,-1)]"
      ]
    },
    {
      "cell_type": "code",
      "execution_count": 16,
      "metadata": {
        "colab": {
          "base_uri": "https://localhost:8080/"
        },
        "id": "f9P-8Hwv7HQq",
        "outputId": "ab4b27ec-5c8f-4e20-ddf0-b8a9ecad69d2"
      },
      "outputs": [
        {
          "data": {
            "text/plain": [
              "(8, 7)"
            ]
          },
          "execution_count": 16,
          "metadata": {},
          "output_type": "execute_result"
        }
      ],
      "source": [
        "np.size(X0), np.size(Y0)"
      ]
    },
    {
      "cell_type": "code",
      "execution_count": 17,
      "metadata": {
        "id": "LjsenELo7HQr"
      },
      "outputs": [],
      "source": [
        "model.load_state_dict(torch.load(PATH))\n",
        "\n",
        "src = Variable(torch.Tensor(X0.reshape(1,-1)) )\n",
        "src_mask = Variable(torch.ones(1,1,8))"
      ]
    },
    {
      "cell_type": "code",
      "execution_count": 18,
      "metadata": {
        "colab": {
          "base_uri": "https://localhost:8080/"
        },
        "id": "K4DksbCy7HQr",
        "outputId": "faf63c84-dd8a-4b87-a625-b6c692e75b88"
      },
      "outputs": [
        {
          "name": "stdout",
          "output_type": "stream",
          "text": [
            "actual: 0.64017165 prediction: 2.2598765\n"
          ]
        }
      ],
      "source": [
        "pred=greedy_decode(model, src, src_mask, max_len=8, start_symbol=1)\n",
        "\n",
        "print(\"actual:\", Y0[0][0][-1],\"prediction:\",pred.detach().numpy())"
      ]
    },
    {
      "cell_type": "markdown",
      "metadata": {
        "id": "BZxiEfEv7HQr"
      },
      "source": [
        "## Inference"
      ]
    },
    {
      "cell_type": "code",
      "execution_count": 19,
      "metadata": {
        "colab": {
          "base_uri": "https://localhost:8080/",
          "height": 279
        },
        "id": "Ppz195Nh9EB5",
        "outputId": "abf5bde4-15f4-46da-f368-c60620b9a454"
      },
      "outputs": [
        {
          "data": {
            "image/png": "[encoded data removed]",
            "text/plain": [
              "<Figure size 432x288 with 1 Axes>"
            ]
          },
          "metadata": {
            "needs_background": "light"
          },
          "output_type": "display_data"
        }
      ],
      "source": [
        "# \n",
        "plt.plot(range(trainX.shape[0]),dataset[:trainX.shape[0]])\n",
        "plt.plot(range(trainX.shape[0],trainX.shape[0]+dataset[trainX.shape[0]:].shape[0],1),dataset[trainX.shape[0]:])\n",
        "plt.show()"
      ]
    },
    {
      "cell_type": "code",
      "execution_count": 20,
      "metadata": {
        "colab": {
          "base_uri": "https://localhost:8080/"
        },
        "id": "IDc9yz6r7HQr",
        "outputId": "ecb9d59b-0240-4979-e801-a9c976c663e5"
      },
      "outputs": [
        {
          "data": {
            "text/plain": [
              "((236, 8), (236,))"
            ]
          },
          "execution_count": 20,
          "metadata": {},
          "output_type": "execute_result"
        }
      ],
      "source": [
        "(trainX.shape, trainY.shape) #[len_dataset-look_back,look_back]"
      ]
    },
    {
      "cell_type": "code",
      "execution_count": 21,
      "metadata": {
        "colab": {
          "base_uri": "https://localhost:8080/"
        },
        "id": "QKHhSaeR7HQs",
        "outputId": "04b5a443-98da-4852-fcae-620eede30594"
      },
      "outputs": [
        {
          "data": {
            "text/plain": [
              "<All keys matched successfully>"
            ]
          },
          "execution_count": 21,
          "metadata": {},
          "output_type": "execute_result"
        }
      ],
      "source": [
        "model.load_state_dict(torch.load(PATH))"
      ]
    },
    {
      "cell_type": "code",
      "execution_count": 22,
      "metadata": {
        "id": "a9M9g8O-7HQs"
      },
      "outputs": [],
      "source": [
        "X0=trainX[0:-2]\n",
        "Y0=trainX[1:-1]\n",
        "\n",
        "X0=X0.reshape(X0.shape[0],X0.shape[1],1).astype(np.float32)\n",
        "Y0=Y0.reshape(Y0.shape[0],Y0.shape[1],1).astype(np.float32)"
      ]
    },
    {
      "cell_type": "code",
      "execution_count": 23,
      "metadata": {
        "colab": {
          "base_uri": "https://localhost:8080/"
        },
        "id": "ka3RZTkx7HQs",
        "outputId": "7d5ec981-e09f-43c9-e784-da86d80dcb45"
      },
      "outputs": [
        {
          "data": {
            "text/plain": [
              "((8, 1), (8, 1))"
            ]
          },
          "execution_count": 23,
          "metadata": {},
          "output_type": "execute_result"
        }
      ],
      "source": [
        "X0[-1].shape, Y0[-1].shape"
      ]
    },
    {
      "cell_type": "code",
      "execution_count": 24,
      "metadata": {
        "colab": {
          "base_uri": "https://localhost:8080/"
        },
        "id": "TXdVxls77HQs",
        "outputId": "1cc743b4-3baf-441b-d00c-5ed797968069"
      },
      "outputs": [
        {
          "name": "stdout",
          "output_type": "stream",
          "text": [
            "** Predicted Value:  tensor(3.6974, grad_fn=<SumBackward0>)\n",
            "-- Actual Value:  [0.90828013]\n",
            "** Predicted Value:  tensor(3.5781, grad_fn=<SumBackward0>)\n",
            "-- Actual Value:  [0.91275305]\n",
            "** Predicted Value:  tensor(3.4837, grad_fn=<SumBackward0>)\n",
            "-- Actual Value:  [0.90630686]\n",
            "** Predicted Value:  tensor(3.9803, grad_fn=<SumBackward0>)\n",
            "-- Actual Value:  [0.9319862]\n",
            "** Predicted Value:  tensor(3.7988, grad_fn=<SumBackward0>)\n",
            "-- Actual Value:  [0.88249546]\n",
            "** Predicted Value:  tensor(3.7604, grad_fn=<SumBackward0>)\n",
            "-- Actual Value:  [0.8880469]\n",
            "** Predicted Value:  tensor(13.7132, grad_fn=<SumBackward0>)\n",
            "-- Actual Value:  [0.89696646]\n",
            "** Predicted Value:  tensor(18.4809, grad_fn=<SumBackward0>)\n",
            "-- Actual Value:  [0.90162355]\n",
            "** Predicted Value:  tensor(12.2522, grad_fn=<SumBackward0>)\n",
            "-- Actual Value:  [0.90770125]\n",
            "** Predicted Value:  tensor(17.8998, grad_fn=<SumBackward0>)\n",
            "-- Actual Value:  [0.9110955]\n",
            "** Predicted Value:  tensor(18.5703, grad_fn=<SumBackward0>)\n",
            "-- Actual Value:  [0.9188045]\n",
            "** Predicted Value:  tensor(15.0951, grad_fn=<SumBackward0>)\n",
            "-- Actual Value:  [0.91696274]\n",
            "** Predicted Value:  tensor(163.2821, grad_fn=<SumBackward0>)\n",
            "-- Actual Value:  [0.92561895]\n",
            "** Predicted Value:  tensor(99.0079, grad_fn=<SumBackward0>)\n",
            "-- Actual Value:  [0.94166857]\n",
            "** Predicted Value:  tensor(58.7420, grad_fn=<SumBackward0>)\n",
            "-- Actual Value:  [0.9062804]\n",
            "** Predicted Value:  tensor(84.8264, grad_fn=<SumBackward0>)\n",
            "-- Actual Value:  [0.9366433]\n",
            "** Predicted Value:  tensor(87.3749, grad_fn=<SumBackward0>)\n",
            "-- Actual Value:  [0.9665851]\n",
            "** Predicted Value:  tensor(64.0914, grad_fn=<SumBackward0>)\n",
            "-- Actual Value:  [0.98495007]\n",
            "** Predicted Value:  tensor(1449.0245, grad_fn=<SumBackward0>)\n",
            "-- Actual Value:  [0.96113867]\n",
            "** Predicted Value:  tensor(468.0622, grad_fn=<SumBackward0>)\n",
            "-- Actual Value:  [0.9329598]\n",
            "** Predicted Value:  tensor(239.5434, grad_fn=<SumBackward0>)\n",
            "-- Actual Value:  [0.9427737]\n",
            "** Predicted Value:  tensor(428.2953, grad_fn=<SumBackward0>)\n",
            "-- Actual Value:  [0.9599285]\n",
            "** Predicted Value:  tensor(321.6405, grad_fn=<SumBackward0>)\n",
            "-- Actual Value:  [0.9406426]\n",
            "** Predicted Value:  tensor(249.6611, grad_fn=<SumBackward0>)\n",
            "-- Actual Value:  [0.96145445]\n",
            "** Predicted Value:  tensor(5869.1621, grad_fn=<SumBackward0>)\n",
            "-- Actual Value:  [0.9567185]\n",
            "** Predicted Value:  tensor(1984.9192, grad_fn=<SumBackward0>)\n",
            "-- Actual Value:  [0.9467468]\n",
            "** Predicted Value:  tensor(860.2397, grad_fn=<SumBackward0>)\n",
            "-- Actual Value:  [0.93530154]\n",
            "** Predicted Value:  tensor(1609.4585, grad_fn=<SumBackward0>)\n",
            "-- Actual Value:  [0.9384324]\n",
            "** Predicted Value:  tensor(1143.0974, grad_fn=<SumBackward0>)\n",
            "-- Actual Value:  [0.974768]\n",
            "** Predicted Value:  tensor(1111.9598, grad_fn=<SumBackward0>)\n",
            "-- Actual Value:  [0.9569289]\n",
            "** Predicted Value:  tensor(35839.7188, grad_fn=<SumBackward0>)\n",
            "-- Actual Value:  [0.99129117]\n",
            "** Predicted Value:  tensor(9276.1016, grad_fn=<SumBackward0>)\n",
            "-- Actual Value:  [1.]\n",
            "** Predicted Value:  tensor(2960.1997, grad_fn=<SumBackward0>)\n",
            "-- Actual Value:  [0.99255407]\n",
            "** Predicted Value:  tensor(12801.5078, grad_fn=<SumBackward0>)\n",
            "-- Actual Value:  [0.98210853]\n",
            "** Predicted Value:  tensor(6620.9375, grad_fn=<SumBackward0>)\n",
            "-- Actual Value:  [0.9371957]\n"
          ]
        }
      ],
      "source": [
        "place=-1\n",
        "\n",
        "pred = []\n",
        "X0=X0[place]\n",
        "Y0=[Y0[place][0:7].reshape(1,-1)]\n",
        "\n",
        "for forward_step in range(35):\n",
        "  src = Variable(torch.Tensor(X0.reshape(1,-1)) )\n",
        "  src_mask = Variable(torch.ones(1,1,8))\n",
        "  current_pred = greedy_decode(model, src, src_mask, max_len=8, start_symbol=1)\n",
        "\n",
        "  print('** Predicted Value: ', current_pred)\n",
        "  print('-- Actual Value: ', dataset[trainX.shape[0]+forward_step])\n",
        "  pred.append( current_pred.detach().numpy() )\n",
        "\n",
        "  X0=np.append(X0[1:],[[current_pred.detach().numpy()]], axis=0)\n",
        "  Y0=[np.append(Y0,[[[current_pred.detach().numpy()]]]).reshape(1,-1)]"
      ]
    },
    {
      "cell_type": "code",
      "execution_count": 25,
      "metadata": {
        "colab": {
          "base_uri": "https://localhost:8080/",
          "height": 297
        },
        "id": "fNl83fxX7HQs",
        "outputId": "96c9caac-472e-47a5-97df-93e1a143f3ba"
      },
      "outputs": [
        {
          "data": {
            "text/plain": [
              "[<matplotlib.lines.Line2D at 0x7fbf8b0a8490>]"
            ]
          },
          "execution_count": 25,
          "metadata": {},
          "output_type": "execute_result"
        },
        {
          "data": {
            "image/png": "[encoded data removed]",
            "text/plain": [
              "<Figure size 432x288 with 1 Axes>"
            ]
          },
          "metadata": {
            "needs_background": "light"
          },
          "output_type": "display_data"
        }
      ],
      "source": [
        "plt.plot(dataset[trainX.shape[0]:])"
      ]
    },
    {
      "cell_type": "code",
      "execution_count": 26,
      "metadata": {
        "colab": {
          "base_uri": "https://localhost:8080/",
          "height": 297
        },
        "id": "-XEOGVXF7HQt",
        "outputId": "ea2406b6-5931-45f3-f2c3-a983c9dc8482"
      },
      "outputs": [
        {
          "data": {
            "text/plain": [
              "[<matplotlib.lines.Line2D at 0x7fbf8b0088d0>]"
            ]
          },
          "execution_count": 26,
          "metadata": {},
          "output_type": "execute_result"
        },
        {
          "data": {
            "image/png": "[encoded data removed]",
            "text/plain": [
              "<Figure size 432x288 with 1 Axes>"
            ]
          },
          "metadata": {
            "needs_background": "light"
          },
          "output_type": "display_data"
        }
      ],
      "source": [
        "plt.plot(pred)"
      ]
    },
    {
      "cell_type": "code",
      "execution_count": 26,
      "metadata": {
        "id": "34g86yJ0D5ix"
      },
      "outputs": [],
      "source": []
    }
  ],
  "metadata": {
    "colab": {
      "provenance": []
    },
    "kernelspec": {
      "display_name": "Python 3.8.8 ('base')",
      "language": "python",
      "name": "python3"
    },
    "language_info": {
      "codemirror_mode": {
        "name": "ipython",
        "version": 3
      },
      "file_extension": ".py",
      "mimetype": "text/x-python",
      "name": "python",
      "nbconvert_exporter": "python",
      "pygments_lexer": "ipython3",
      "version": "3.8.8"
    },
    "orig_nbformat": 4,
    "vscode": {
      "interpreter": {
        "hash": "40d3a090f54c6569ab1632332b64b2c03c39dcf918b08424e98f38b5ae0af88f"
      }
    }
  },
  "nbformat": 4,
  "nbformat_minor": 0
}
