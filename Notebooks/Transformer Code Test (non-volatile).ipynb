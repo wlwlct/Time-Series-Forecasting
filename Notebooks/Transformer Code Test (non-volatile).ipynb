{
  "cells": [
    {
      "cell_type": "markdown",
      "metadata": {
        "id": "i5fvqBZU7HQf"
      },
      "source": [
        "PyTorch vs. Keras\n",
        "\n",
        "PyTorch: Mathmeticians, experienced researchers; faster than Keras and has better debugging capabilities, outstanding community support and active development.\n",
        "\n",
        "Keras: developers; a plug-and-play framework that lets them build, train, and evaluate their models quickly. Keras also offers more deployment options and easier model export, offers more deployment options and easier model export, excellent access to reusable code and tutorials, small datasets, rapid prototyping, and multiple back-end support.  It runs on Linux, MacOS, and Windows. \n",
        "\n",
        "\n",
        "\n",
        "|                                  |                     **Keras**                    |            **PyTorch**           |          **TensorFlow**          |\n",
        "|:--------------------------------:|:------------------------------------------------:|:--------------------------------:|:--------------------------------:|\n",
        "|           **API Level**          |                       High                       |                Low               |           High and Low           |\n",
        "|         **Architecture**         |             Simple, concise, readable            |      Complex, less readable      |          Not easy to use         |\n",
        "|           **Datasets**           |                 Smaller datasets                 | Large datasets, high performance | Large datasets, high performance |\n",
        "|           **Debugging**          | Simple network, so debugging is not often needed |    Good debugging capabilities   |  Difficult to conduct debugging  |\n",
        "| **Does It Have Trained Models?** |                        Yes                       |                Yes               |                Yes               |\n",
        "|          **Popularity**          |                   Most popular                   |        Third most popular        |        Second most popular       |\n",
        "|             **Speed**            |               Slow, low performance              |      Fast, high-performance      |      Fast, high-performance      |\n",
        "|          **Written In**          |                      Python                      |                Lua               |         C++, CUDA, Python        |\n",
        "\n",
        "\n",
        "\n",
        "Reference: https://www.simplilearn.com/keras-vs-tensorflow-vs-pytorch-article#:~:text=TensorFlow%20offers%20better%20visualization%2C%20which,to%20the%20TensorFlow%20Serving%20framework."
      ]
    },
    {
      "cell_type": "markdown",
      "metadata": {
        "id": "LWi7CmxA7HQh"
      },
      "source": [
        "### Import package"
      ]
    },
    {
      "cell_type": "code",
      "execution_count": 1,
      "metadata": {
        "id": "iY9XRd7B7HQi"
      },
      "outputs": [],
      "source": [
        "import datetime\n",
        "import pandas as pd\n",
        "import matplotlib.pyplot as plt\n",
        "from pandas_datareader import data\n",
        "import tensorflow as tf\n",
        "import pandas as pd  \n",
        "import numpy as np\n",
        "from  sklearn.preprocessing import MinMaxScaler\n",
        "import numpy as np\n",
        "import torch\n",
        "import torch.nn as nn\n",
        "import torch.nn.functional as F\n",
        "import math, copy, time\n",
        "from torch.autograd import Variable\n",
        "import matplotlib.pyplot as plt\n",
        "import seaborn\n",
        "\n",
        "from sklearn.metrics import mean_squared_error\n",
        "\n",
        "\n",
        "seaborn.set_context(context=\"talk\")"
      ]
    },
    {
      "cell_type": "markdown",
      "metadata": {
        "id": "yDJOFz0A7HQj"
      },
      "source": [
        "## Generate Train and Test"
      ]
    },
    {
      "cell_type": "code",
      "execution_count": 2,
      "metadata": {
        "id": "VnJTBbT-7HQj"
      },
      "outputs": [],
      "source": [
        "passenger = pd.read_csv('./train.csv', parse_dates=['Month'])"
      ]
    },
    {
      "cell_type": "code",
      "execution_count": 3,
      "metadata": {
        "colab": {
          "base_uri": "https://localhost:8080/",
          "height": 319
        },
        "id": "W_Kuk0oT7HQj",
        "outputId": "8c61a85c-f66e-419a-80ff-8f6e0d75a8e9"
      },
      "outputs": [
        {
          "output_type": "execute_result",
          "data": {
            "text/plain": [
              "<matplotlib.axes._subplots.AxesSubplot at 0x7fd10fde4250>"
            ]
          },
          "metadata": {},
          "execution_count": 3
        },
        {
          "output_type": "display_data",
          "data": {
            "text/plain": [
              "<Figure size 432x288 with 1 Axes>"
            ],
            "image/png": "[encoded data removed]"
          },
          "metadata": {
            "needs_background": "light"
          }
        }
      ],
      "source": [
        "passenger.set_index('Month').plot()"
      ]
    },
    {
      "cell_type": "code",
      "execution_count": 4,
      "metadata": {
        "id": "3n2JTqvp7HQk"
      },
      "outputs": [],
      "source": [
        "dataset = passenger.set_index('Month').loc[:,'#Passengers']\n",
        "dataset = np.array(dataset.astype('float32')).reshape(-1,1)"
      ]
    },
    {
      "cell_type": "code",
      "source": [
        "plt.plot(dataset)"
      ],
      "metadata": {
        "colab": {
          "base_uri": "https://localhost:8080/",
          "height": 297
        },
        "id": "1gH_le6-8KFD",
        "outputId": "a2a869b9-ae0a-42e5-e136-354bc5f72c2c"
      },
      "execution_count": 5,
      "outputs": [
        {
          "output_type": "execute_result",
          "data": {
            "text/plain": [
              "[<matplotlib.lines.Line2D at 0x7fd10f7ae310>]"
            ]
          },
          "metadata": {},
          "execution_count": 5
        },
        {
          "output_type": "display_data",
          "data": {
            "text/plain": [
              "<Figure size 432x288 with 1 Axes>"
            ],
            "image/png": "[encoded data removed]"
          },
          "metadata": {
            "needs_background": "light"
          }
        }
      ]
    },
    {
      "cell_type": "markdown",
      "metadata": {
        "id": "BGRsGTJ87HQl"
      },
      "source": [
        "## Train Model"
      ]
    },
    {
      "cell_type": "code",
      "execution_count": 6,
      "metadata": {
        "colab": {
          "base_uri": "https://localhost:8080/"
        },
        "id": "QuhNlsjb7HQl",
        "outputId": "d7031b1b-3e89-4b5b-d993-b58db316ab9b"
      },
      "outputs": [
        {
          "output_type": "stream",
          "name": "stdout",
          "text": [
            "83 36\n"
          ]
        }
      ],
      "source": [
        "def norm(x):\n",
        "    return (x-np.min(x))/(np.max(x)-np.min(x))\n",
        "\n",
        "dataset=norm(dataset)\n",
        "\n",
        "look_back=8\n",
        "np.random.seed(7)\n",
        "train_size = int(len(dataset) * 0.7)\n",
        "test_size = len(dataset) - train_size\n",
        "train, test = dataset[0:train_size,:], dataset[train_size:len(dataset),:]\n",
        "print(len(train), len(test))\n",
        "\n",
        "def create_dataset(dataset, look_back=look_back):\n",
        "\tdataX, dataY = [], []\n",
        "\tfor i in range(len(dataset)-look_back):\n",
        "\t\ta = dataset[i:(i+look_back), 0]\n",
        "\t\tdataX.append(a)\n",
        "\t\tdataY.append(dataset[i + look_back, 0])\n",
        "\treturn np.array(dataX), np.array(dataY)\n",
        "\n",
        "trainX, trainY = create_dataset(train, look_back)\n",
        "testX, testY = create_dataset(test, look_back)\n",
        "\n",
        "\n",
        "X0=trainX[0:-2]\n",
        "Y0=trainX[1:-1]\n",
        "\n",
        "X0=X0.reshape(X0.shape[0],X0.shape[1],1).astype(np.float32)\n",
        "Y0=Y0.reshape(Y0.shape[0],Y0.shape[1],1).astype(np.float32)"
      ]
    },
    {
      "cell_type": "code",
      "execution_count": 7,
      "metadata": {
        "id": "Xjefks8H7HQm"
      },
      "outputs": [],
      "source": [
        "\n",
        "class EncoderDecoder(nn.Module):\n",
        "    \"\"\"\n",
        "    A standard Encoder-Decoder architecture. Base for this and many \n",
        "    other models.\n",
        "    \"\"\"\n",
        "    def __init__(self, encoder, decoder, src_embed, tgt_embed, generator):\n",
        "        super(EncoderDecoder, self).__init__()\n",
        "        self.encoder = encoder\n",
        "        self.decoder = decoder\n",
        "        self.src_embed = src_embed\n",
        "        self.tgt_embed = tgt_embed\n",
        "        self.generator = generator\n",
        "        \n",
        "    def forward(self, src, tgt, src_mask, tgt_mask):\n",
        "        \"Take in and process masked src and target sequences.\"\n",
        "        return self.decode(self.encode(src, src_mask), src_mask,\n",
        "                            tgt, tgt_mask)\n",
        "    \n",
        "    def encode(self, src, src_mask):\n",
        "        return self.encoder(self.src_embed(src), src_mask)\n",
        "    \n",
        "    def decode(self, memory, src_mask, tgt, tgt_mask):\n",
        "        return self.decoder(self.tgt_embed(tgt), memory, src_mask, tgt_mask)\n",
        "import torch.nn.functional as F\n",
        "\n",
        "class Generator(nn.Module):\n",
        "    \"Define standard linear + softmax generation step.\"\n",
        "    def __init__(self, d_model, vocab):\n",
        "        super(Generator, self).__init__()\n",
        "        self.proj = nn.Linear(d_model, 8)\n",
        "\n",
        "    def forward(self, x):\n",
        "        return F.relu(self.proj(x))\n",
        "        \n",
        "        \n",
        "def clones(module, N):\n",
        "    \"Produce N identical layers.\"\n",
        "    return nn.ModuleList([copy.deepcopy(module) for _ in range(N)])\n",
        "\n",
        "class Encoder(nn.Module):\n",
        "    \"Core encoder is a stack of N layers\"\n",
        "    def __init__(self, layer, N):\n",
        "        super(Encoder, self).__init__()\n",
        "        self.layers = clones(layer, N)\n",
        "        self.norm = LayerNorm(layer.size)\n",
        "        \n",
        "    def forward(self, x, mask):\n",
        "        \"Pass the input (and mask) through each layer in turn.\"\n",
        "        for layer in self.layers:\n",
        "            x = layer(x, mask)\n",
        "        return self.norm(x)\n",
        "\n",
        "class LayerNorm(nn.Module):\n",
        "    \"Construct a layernorm module (See citation for details).\"\n",
        "    def __init__(self, features, eps=1e-6):\n",
        "        super(LayerNorm, self).__init__()\n",
        "        self.a_2 = nn.Parameter(torch.ones(features))\n",
        "        self.b_2 = nn.Parameter(torch.zeros(features))\n",
        "        self.eps = eps\n",
        "\n",
        "    def forward(self, x):\n",
        "        mean = x.mean(-1, keepdim=True)\n",
        "        std = x.std(-1, keepdim=True)\n",
        "        return self.a_2 * (x - mean) / (std + self.eps) + self.b_2\n",
        "\n",
        "class SublayerConnection(nn.Module):\n",
        "    \"\"\"\n",
        "    A residual connection followed by a layer norm.\n",
        "    Note for code simplicity the norm is first as opposed to last.\n",
        "    \"\"\"\n",
        "    def __init__(self, size, dropout):\n",
        "        super(SublayerConnection, self).__init__()\n",
        "        self.norm = LayerNorm(size)\n",
        "        self.dropout = nn.Dropout(dropout)\n",
        "\n",
        "    def forward(self, x, sublayer):\n",
        "        \"Apply residual connection to any sublayer with the same size.\"\n",
        "        return x + self.dropout(sublayer(self.norm(x)))\n",
        "\n",
        "\n",
        "class EncoderLayer(nn.Module):\n",
        "    \"Encoder is made up of self-attn and feed forward (defined below)\"\n",
        "    def __init__(self, size, self_attn, feed_forward, dropout):\n",
        "        super(EncoderLayer, self).__init__()\n",
        "        self.self_attn = self_attn\n",
        "        self.feed_forward = feed_forward\n",
        "        self.sublayer = clones(SublayerConnection(size, dropout), 2)\n",
        "        self.size = size\n",
        "\n",
        "    def forward(self, x, mask):\n",
        "        \"Follow Figure 1 (left) for connections.\"\n",
        "        x = self.sublayer[0](x, lambda x: self.self_attn(x, x, x, mask))\n",
        "        return self.sublayer[1](x, self.feed_forward)\n",
        "\n",
        "class Decoder(nn.Module):\n",
        "    \"Generic N layer decoder with masking.\"\n",
        "    def __init__(self, layer, N):\n",
        "        super(Decoder, self).__init__()\n",
        "        self.layers = clones(layer, N)\n",
        "        self.norm = LayerNorm(layer.size)\n",
        "        \n",
        "    def forward(self, x, memory, src_mask, tgt_mask):\n",
        "        for layer in self.layers:\n",
        "            x = layer(x, memory, src_mask, tgt_mask)\n",
        "        return self.norm(x)\n",
        "\n",
        "\n",
        "class DecoderLayer(nn.Module):\n",
        "    \"Decoder is made of self-attn, src-attn, and feed forward (defined below)\"\n",
        "    def __init__(self, size, self_attn, src_attn, feed_forward, dropout):\n",
        "        super(DecoderLayer, self).__init__()\n",
        "        self.size = size\n",
        "        self.self_attn = self_attn\n",
        "        self.src_attn = src_attn\n",
        "        self.feed_forward = feed_forward\n",
        "        self.sublayer = clones(SublayerConnection(size, dropout), 3)\n",
        " \n",
        "    def forward(self, x, memory, src_mask, tgt_mask):\n",
        "        \"Follow Figure 1 (right) for connections.\"\n",
        "        m = memory\n",
        "        x = self.sublayer[0](x, lambda x: self.self_attn(x, x, x, tgt_mask))\n",
        "        x = self.sublayer[1](x, lambda x: self.src_attn(x, m, m, src_mask))\n",
        "        return self.sublayer[2](x, self.feed_forward)\n",
        "\n",
        "def subsequent_mask(size):\n",
        "    \"Mask out subsequent positions.\"\n",
        "    attn_shape = (1, size, size)\n",
        "    subsequent_mask = np.triu(np.ones(attn_shape), k=1).astype('float32')\n",
        "    return torch.from_numpy(subsequent_mask) == 0\n",
        "\n",
        "\n",
        "def attention(query, key, value, mask=None, dropout=None):\n",
        "    \"Compute 'Scaled Dot Product Attention'\"\n",
        "    d_k = query.size(-1)\n",
        "    scores = torch.matmul(query, key.transpose(-2, -1)) \\\n",
        "             / math.sqrt(d_k)\n",
        "    if mask is not None:\n",
        "        scores = scores.masked_fill(mask == 0, -1e9)\n",
        "    p_attn = F.softmax(scores, dim = -1)\n",
        "    if dropout is not None:\n",
        "        p_attn = dropout(p_attn)\n",
        "    return torch.matmul(p_attn, value), p_attn\n",
        "\n",
        "class MultiHeadedAttention(nn.Module):\n",
        "    def __init__(self, h, d_model, dropout=0.1):\n",
        "        \"Take in model size and number of heads.\"\n",
        "        super(MultiHeadedAttention, self).__init__()\n",
        "        assert d_model % h == 0\n",
        "        self.d_k = d_model // h\n",
        "        self.h = h\n",
        "        self.linears = clones(nn.Linear(d_model, d_model), 4)\n",
        "        self.attn = None\n",
        "        self.dropout = nn.Dropout(p=dropout)\n",
        "        \n",
        "    def forward(self, query, key, value, mask=None):\n",
        "        \"Implements Figure 2\"\n",
        "        if mask is not None:\n",
        "            mask = mask.unsqueeze(1)\n",
        "        nbatches = query.size(0)\n",
        "        \n",
        "        query, key, value = \\\n",
        "            [l(x).view(nbatches, -1, self.h, self.d_k).transpose(1, 2)\n",
        "             for l, x in zip(self.linears, (query, key, value))]\n",
        "        \n",
        "        x, self.attn = attention(query, key, value, mask=mask, \n",
        "                                 dropout=self.dropout)\n",
        "        \n",
        "        x = x.transpose(1, 2).contiguous() \\\n",
        "             .view(nbatches, -1, self.h * self.d_k)\n",
        "        return self.linears[-1](x)\n",
        "\n",
        "\n",
        "class PositionwiseFeedForward(nn.Module):\n",
        "    \"Implements FFN equation.\"\n",
        "    def __init__(self, d_model, d_ff, dropout=0.1):\n",
        "        super(PositionwiseFeedForward, self).__init__()\n",
        "        self.w_1 = nn.Linear(d_model, d_ff)\n",
        "        self.w_2 = nn.Linear(d_ff, d_model)\n",
        "        self.dropout = nn.Dropout(dropout)\n",
        "\n",
        "    def forward(self, x):\n",
        "        return self.w_2(self.dropout(F.relu(self.w_1(x))))\n",
        "\n",
        "class Embeddings1(nn.Module):\n",
        "    def __init__(self, d_model, vocab):\n",
        "        super(Embeddings1, self).__init__()\n",
        "        self.d_model = d_model\n",
        " \n",
        "    def forward(self, x):\n",
        "        return torch.cat(4*[x]).reshape(-1,8,self.d_model)  * math.sqrt(self.d_model)\n",
        " \n",
        "class Embeddings2(nn.Module):\n",
        "    def __init__(self, d_model, vocab):\n",
        "        super(Embeddings2, self).__init__()\n",
        "        self.d_model = d_model\n",
        " \n",
        "    def forward(self, x):\n",
        "        return torch.cat(4*[x]).reshape(-1,7,self.d_model)  * math.sqrt(self.d_model)\n",
        "\n",
        "class PositionalEncoding(nn.Module):\n",
        "    \"Implement the PE function.\"\n",
        "    def __init__(self, d_model, dropout, max_len=5000):\n",
        "        super(PositionalEncoding, self).__init__()\n",
        "        self.dropout = nn.Dropout(p=dropout)\n",
        "        \n",
        "        pe = torch.zeros(max_len, d_model)\n",
        "        position = torch.arange(0, max_len).unsqueeze(1)\n",
        "        div_term = torch.exp(torch.arange(0, d_model, 2) *\n",
        "                             -(math.log(10000.0) / d_model))\n",
        "        pe[:, 0::2] = torch.sin(position * div_term)\n",
        "        pe[:, 1::2] = torch.cos(position * div_term)\n",
        "        pe = pe.unsqueeze(0)\n",
        "        self.register_buffer('pe', pe)\n",
        "        \n",
        "    def forward(self, x):\n",
        "        return x\n",
        "\n",
        "\n",
        "def make_model(src_vocab, tgt_vocab, N=2, \n",
        "               d_model=4, d_ff=32, h=4, dropout=0.1):\n",
        "    \"Helper: Construct a model from hyperparameters.\"\n",
        "    c = copy.deepcopy\n",
        "    attn = MultiHeadedAttention(h, d_model)\n",
        "    ff = PositionwiseFeedForward(d_model, d_ff, dropout)\n",
        "    position = PositionalEncoding(d_model, dropout)\n",
        "    model = EncoderDecoder(\n",
        "        Encoder(EncoderLayer(d_model, c(attn), c(ff), dropout), N),\n",
        "        Decoder(DecoderLayer(d_model, c(attn), c(attn), \n",
        "                             c(ff), dropout), N),\n",
        "        nn.Sequential(Embeddings1(d_model, src_vocab), c(position)),\n",
        "        nn.Sequential(Embeddings2(d_model, tgt_vocab), c(position)),\n",
        "        Generator(d_model, tgt_vocab))\n",
        "    \n",
        "    for p in model.parameters():\n",
        "        if p.dim() > 1:\n",
        "            nn.init.xavier_uniform(p)\n",
        "    return model\n",
        "\n",
        "\n",
        "class Batch:\n",
        "    \"Object for holding a batch of data with mask during training.\"\n",
        "    def __init__(self, src, trg=None, pad=0):\n",
        "        self.src = src\n",
        "        self.src_mask = (src != pad).unsqueeze(-2)\n",
        "        if trg is not None:\n",
        "            self.trg = trg[:, :-1]\n",
        "            self.trg_y = trg[:, 1:]\n",
        "            self.trg_mask = \\\n",
        "                self.make_std_mask(self.trg, pad)\n",
        "            self.ntokens = (self.trg_y != pad).data.sum()\n",
        "    \n",
        "    @staticmethod\n",
        "    def make_std_mask(tgt, pad):\n",
        "        \"Create a mask to hide padding and future words.\"\n",
        "        tgt_mask = (tgt != pad).unsqueeze(-2)\n",
        "        tgt_mask = tgt_mask & Variable(\n",
        "            subsequent_mask(tgt.size(-1)).type_as(tgt_mask.data))\n",
        "        return tgt_mask\n",
        "\n",
        "def run_epoch(data_iter, model, loss_compute):\n",
        "    \"Standard Training and Logging Function\"\n",
        "    start = time.time()\n",
        "    total_tokens = 0\n",
        "    total_loss = 0\n",
        "    tokens = 0\n",
        "    for i, batch in enumerate(data_iter):\n",
        "        out = model.forward(batch.src, batch.trg, \n",
        "                            batch.src_mask, batch.trg_mask)\n",
        "        loss = loss_compute(out, batch.trg_y, batch.ntokens)\n",
        "        total_loss += loss\n",
        "        total_tokens += batch.ntokens\n",
        "        tokens += batch.ntokens\n",
        "        if i % 50 == 1:\n",
        "            elapsed = time.time() - start\n",
        "            print(\"Epoch Step: %d Loss: %f Tokens per Sec: %f\" %\n",
        "                    (i, loss / batch.ntokens, tokens / elapsed))\n",
        "            start = time.time()\n",
        "            tokens = 0\n",
        "    return total_loss #/ total_tokens\n",
        "\n",
        "global max_src_in_batch, max_tgt_in_batch\n",
        "def batch_size_fn(new, count, sofar):\n",
        "    \"Keep augmenting batch and calculate total number of tokens + padding.\"\n",
        "    global max_src_in_batch, max_tgt_in_batch\n",
        "    if count == 1:\n",
        "        max_src_in_batch = 0\n",
        "        max_tgt_in_batch = 0\n",
        "    max_src_in_batch = max(max_src_in_batch,  len(new.src))\n",
        "    max_tgt_in_batch = max(max_tgt_in_batch,  len(new.trg) + 2)\n",
        "    src_elements = count * max_src_in_batch\n",
        "    tgt_elements = count * max_tgt_in_batch\n",
        "    return max(src_elements, tgt_elements)\n",
        "\n",
        "class NoamOpt:\n",
        "    \"Optim wrapper that implements rate.\"\n",
        "    def __init__(self, model_size, factor, warmup, optimizer):\n",
        "        self.optimizer = optimizer\n",
        "        self._step = 0\n",
        "        self.warmup = warmup\n",
        "        self.factor = factor\n",
        "        self.model_size = model_size\n",
        "        self._rate = 0\n",
        "        \n",
        "    def step(self):\n",
        "        \"Update parameters and rate\"\n",
        "        self._step += 1\n",
        "        for p in self.optimizer.param_groups:\n",
        "            p['lr'] = learning\n",
        "        self._rate = learning\n",
        "        self.optimizer.step()\n",
        "        \n",
        "        \n",
        "def get_std_opt(model):\n",
        "    return NoamOpt(model.src_embed[0].d_model, 2, 4000,\n",
        "            torch.optim.Adam(model.parameters(), lr=0.01, betas=(0.9, 0.98), eps=1e-9))\n",
        "\n",
        "\n",
        "def data_gen(V, batch, nbatches):\n",
        "    \"Generate random data for a src-tgt copy task.\"\n",
        "    for i in range(nbatches):\n",
        "        data1 = torch.from_numpy(X0.reshape(X0.shape[0]\n",
        ",8))#.long()\n",
        "        data1[:, 0] = 1\n",
        "        data2 = torch.from_numpy(Y0.reshape(X0.shape[0]\n",
        ",8))#.long()\n",
        "        data2[:, 0] = 1\n",
        "        src = Variable(data1, requires_grad=False)\n",
        "        tgt = Variable(data2, requires_grad=False)\n",
        "        yield Batch(src, tgt, 0)\n",
        "\n",
        "\n",
        "class SimpleLossCompute:\n",
        "    \"A simple loss compute and train function.\"\n",
        "    def __init__(self, generator, criterion, opt=None):\n",
        "        self.generator = generator\n",
        "        self.criterion = criterion \n",
        "        self.opt = opt\n",
        "        \n",
        "    def __call__(self, x, y, norm):\n",
        "        x = self.generator(x)\n",
        "        x=torch.sum(x.reshape(X0.shape[0]\n",
        ",7,-1), (2))\n",
        "        loss = self.criterion(torch.sum(x,(0)), \n",
        "                              torch.sum(y,(0))) #/ norm\n",
        "        if loss<0.01:\n",
        "            learning=learning/3\n",
        "\n",
        "        loss.backward()\n",
        "        if self.opt is not None:\n",
        "            self.opt.step()\n",
        "            self.opt.optimizer.zero_grad()\n",
        "        return loss.data #* norm"
      ]
    },
    {
      "cell_type": "code",
      "execution_count": 8,
      "metadata": {
        "colab": {
          "base_uri": "https://localhost:8080/"
        },
        "id": "lGvjE8yh7HQo",
        "outputId": "9ae77857-f0fe-4d7a-8ddc-8d2956669e82"
      },
      "outputs": [
        {
          "output_type": "stream",
          "name": "stdout",
          "text": [
            "1.12.1+cu113\n"
          ]
        },
        {
          "output_type": "stream",
          "name": "stderr",
          "text": [
            "/usr/local/lib/python3.7/dist-packages/ipykernel_launcher.py:236: UserWarning: nn.init.xavier_uniform is now deprecated in favor of nn.init.xavier_uniform_.\n"
          ]
        }
      ],
      "source": [
        "print(torch.__version__)\n",
        "\n",
        "V = 200\n",
        "criterion = nn.MSELoss()\n",
        "learning=0.001\n",
        "model = make_model(V, V, N=2)"
      ]
    },
    {
      "cell_type": "code",
      "execution_count": 9,
      "metadata": {
        "id": "7D9NAHD57HQo"
      },
      "outputs": [],
      "source": [
        "model_opt = NoamOpt(model.src_embed[0].d_model, 10, 400,\n",
        "        torch.optim.Adam(model.parameters(), lr=learning, betas=(0.9, 0.98), eps=1e-9))"
      ]
    },
    {
      "cell_type": "code",
      "execution_count": 10,
      "metadata": {
        "colab": {
          "base_uri": "https://localhost:8080/"
        },
        "id": "7dfabFmI7HQp",
        "outputId": "7b0bca6d-c47a-483b-d3cc-3eaacde7a0b3"
      },
      "outputs": [
        {
          "output_type": "stream",
          "name": "stdout",
          "text": [
            "Epoch Step: 1 Loss: 34.405464 Tokens per Sec: 5913.692383\n",
            "Epoch Step: 1 Loss: 17.899225 Tokens per Sec: 5742.640625\n",
            "Epoch Step: 1 Loss: 11.940682 Tokens per Sec: 8439.967773\n",
            "Epoch Step: 1 Loss: 8.149882 Tokens per Sec: 12955.378906\n",
            "Epoch Step: 1 Loss: 5.609272 Tokens per Sec: 9587.437500\n",
            "Epoch Step: 1 Loss: 3.525375 Tokens per Sec: 6802.887207\n",
            "Epoch Step: 1 Loss: 1.939175 Tokens per Sec: 7747.161621\n",
            "Epoch Step: 1 Loss: 0.961476 Tokens per Sec: 11498.462891\n",
            "Epoch Step: 1 Loss: 0.427375 Tokens per Sec: 7797.729004\n",
            "Epoch Step: 1 Loss: 0.133365 Tokens per Sec: 11810.452148\n",
            "Epoch Step: 1 Loss: 0.034406 Tokens per Sec: 10038.199219\n",
            "Epoch Step: 1 Loss: 0.004913 Tokens per Sec: 4123.139160\n",
            "Epoch Step: 1 Loss: 0.003686 Tokens per Sec: 9608.332031\n",
            "Epoch Step: 1 Loss: 0.004048 Tokens per Sec: 12266.039062\n",
            "Epoch Step: 1 Loss: 0.003620 Tokens per Sec: 10856.668945\n",
            "Epoch Step: 1 Loss: 0.002017 Tokens per Sec: 10698.022461\n",
            "Epoch Step: 1 Loss: 0.001550 Tokens per Sec: 11100.033203\n",
            "Epoch Step: 1 Loss: 0.003402 Tokens per Sec: 12569.556641\n",
            "Epoch Step: 1 Loss: 0.001367 Tokens per Sec: 9313.140625\n",
            "Epoch Step: 1 Loss: 0.002964 Tokens per Sec: 11205.561523\n",
            "Epoch Step: 1 Loss: 0.001060 Tokens per Sec: 11039.861328\n",
            "Epoch Step: 1 Loss: 0.002163 Tokens per Sec: 8633.056641\n",
            "Epoch Step: 1 Loss: 0.001109 Tokens per Sec: 8511.107422\n",
            "Epoch Step: 1 Loss: 0.001579 Tokens per Sec: 7287.438477\n",
            "Epoch Step: 1 Loss: 0.002345 Tokens per Sec: 5594.914062\n",
            "Epoch Step: 1 Loss: 0.001153 Tokens per Sec: 9747.426758\n",
            "Epoch Step: 1 Loss: 0.000789 Tokens per Sec: 9054.393555\n",
            "Epoch Step: 1 Loss: 0.002834 Tokens per Sec: 20961.539062\n",
            "Epoch Step: 1 Loss: 0.000332 Tokens per Sec: 20730.894531\n",
            "Epoch Step: 1 Loss: 0.000618 Tokens per Sec: 19566.714844\n",
            "Epoch Step: 1 Loss: 0.000373 Tokens per Sec: 20527.968750\n",
            "Epoch Step: 1 Loss: 0.001054 Tokens per Sec: 20121.640625\n",
            "Epoch Step: 1 Loss: 0.000552 Tokens per Sec: 20998.498047\n",
            "Epoch Step: 1 Loss: 0.000175 Tokens per Sec: 19576.953125\n",
            "Epoch Step: 1 Loss: 0.000695 Tokens per Sec: 19862.435547\n",
            "Epoch Step: 1 Loss: 0.000438 Tokens per Sec: 20907.841797\n",
            "Epoch Step: 1 Loss: 0.000342 Tokens per Sec: 21172.638672\n",
            "Epoch Step: 1 Loss: 0.000934 Tokens per Sec: 21095.519531\n",
            "Epoch Step: 1 Loss: 0.000688 Tokens per Sec: 21141.935547\n",
            "Epoch Step: 1 Loss: 0.000951 Tokens per Sec: 21490.992188\n",
            "Epoch Step: 1 Loss: 0.000219 Tokens per Sec: 21203.964844\n",
            "Epoch Step: 1 Loss: 0.000440 Tokens per Sec: 20353.445312\n",
            "Epoch Step: 1 Loss: 0.000516 Tokens per Sec: 21315.142578\n",
            "Epoch Step: 1 Loss: 0.000493 Tokens per Sec: 21066.716797\n",
            "Epoch Step: 1 Loss: 0.000111 Tokens per Sec: 17643.792969\n",
            "Epoch Step: 1 Loss: 0.000261 Tokens per Sec: 19842.951172\n",
            "Epoch Step: 1 Loss: 0.000624 Tokens per Sec: 14446.215820\n",
            "Epoch Step: 1 Loss: 0.000473 Tokens per Sec: 20252.728516\n",
            "Epoch Step: 1 Loss: 0.000320 Tokens per Sec: 20727.031250\n",
            "Epoch Step: 1 Loss: 0.000360 Tokens per Sec: 18825.539062\n",
            "Epoch Step: 1 Loss: 0.000306 Tokens per Sec: 20691.527344\n",
            "Epoch Step: 1 Loss: 0.000424 Tokens per Sec: 21195.460938\n",
            "Epoch Step: 1 Loss: 0.000340 Tokens per Sec: 20470.322266\n",
            "Epoch Step: 1 Loss: 0.000073 Tokens per Sec: 19822.578125\n",
            "Epoch Step: 1 Loss: 0.000031 Tokens per Sec: 20360.306641\n",
            "Epoch Step: 1 Loss: 0.000418 Tokens per Sec: 18526.500000\n",
            "Epoch Step: 1 Loss: 0.000128 Tokens per Sec: 20120.298828\n",
            "Epoch Step: 1 Loss: 0.000217 Tokens per Sec: 20642.832031\n",
            "Epoch Step: 1 Loss: 0.000154 Tokens per Sec: 20688.085938\n",
            "Epoch Step: 1 Loss: 0.000134 Tokens per Sec: 18575.175781\n"
          ]
        }
      ],
      "source": [
        "error_cov ={}\n",
        "for epoch in range(60):\n",
        "    #model.train()\n",
        "    loss = run_epoch(data_gen(V, 30, 20), model, \n",
        "              SimpleLossCompute(model.generator, criterion, model_opt))\n",
        "    error_cov[epoch]=loss.detach()\n"
      ]
    },
    {
      "cell_type": "code",
      "source": [
        "plt.plot(list(error_cov.keys())[-20:], list(error_cov.values())[-20:])"
      ],
      "metadata": {
        "colab": {
          "base_uri": "https://localhost:8080/",
          "height": 302
        },
        "id": "LLhxLURzB4Dv",
        "outputId": "9a086279-7feb-419c-b5ad-9cd6a7d9a04a"
      },
      "execution_count": 11,
      "outputs": [
        {
          "output_type": "execute_result",
          "data": {
            "text/plain": [
              "[<matplotlib.lines.Line2D at 0x7fd10f724750>]"
            ]
          },
          "metadata": {},
          "execution_count": 11
        },
        {
          "output_type": "display_data",
          "data": {
            "text/plain": [
              "<Figure size 432x288 with 1 Axes>"
            ],
            "image/png": "[encoded data removed]"
          },
          "metadata": {
            "needs_background": "light"
          }
        }
      ]
    },
    {
      "cell_type": "code",
      "execution_count": 12,
      "metadata": {
        "id": "tFxdekJp7HQp"
      },
      "outputs": [],
      "source": [
        "def greedy_decode(model, src, src_mask, max_len, start_symbol):\n",
        "    memory = model.encode(src, src_mask)\n",
        "    ys = torch.ones(1, 7).fill_(start_symbol).type_as(src.data)\n",
        "    for i in range(8-1):\n",
        "        out = model.decode(memory, src_mask, \n",
        "                           Variable(ys), \n",
        "                           Variable(subsequent_mask(ys.size(1))\n",
        "                                    .type_as(src.data)))\n",
        "        prob = torch.sum(src*torch.sum(model.generator(out),(1)))\n",
        "    return prob"
      ]
    },
    {
      "cell_type": "code",
      "execution_count": 13,
      "metadata": {
        "id": "EUQZtXTR7HQp"
      },
      "outputs": [],
      "source": [
        "PATH = './pytorch_time_series_model_loss_OK_norm.pth'\n",
        "\n",
        "torch.save(model.state_dict(), PATH)\n",
        "\n",
        "X0=trainX[0:-2]\n",
        "Y0=trainX[1:-1]\n",
        "\n",
        "X0=X0.reshape(X0.shape[0],X0.shape[1],1).astype(np.float32)\n",
        "Y0=Y0.reshape(Y0.shape[0],Y0.shape[1],1).astype(np.float32)"
      ]
    },
    {
      "cell_type": "code",
      "execution_count": 14,
      "metadata": {
        "colab": {
          "base_uri": "https://localhost:8080/"
        },
        "id": "kDBFLMWF7HQq",
        "outputId": "15bd7404-4f3b-4326-cccf-3fd29b794d9e"
      },
      "outputs": [
        {
          "output_type": "execute_result",
          "data": {
            "text/plain": [
              "((73, 8, 1), (73, 8, 1))"
            ]
          },
          "metadata": {},
          "execution_count": 14
        }
      ],
      "source": [
        "X0.shape, Y0.shape"
      ]
    },
    {
      "cell_type": "code",
      "execution_count": 15,
      "metadata": {
        "id": "ZpbHfsWY7HQq"
      },
      "outputs": [],
      "source": [
        "place=20\n",
        "\n",
        "X0=X0[place]\n",
        "Y0=[Y0[place][0:7].reshape(1,-1)]"
      ]
    },
    {
      "cell_type": "code",
      "execution_count": 16,
      "metadata": {
        "colab": {
          "base_uri": "https://localhost:8080/"
        },
        "id": "f9P-8Hwv7HQq",
        "outputId": "bf833c74-8128-4c9a-cb44-f72632f08696"
      },
      "outputs": [
        {
          "output_type": "execute_result",
          "data": {
            "text/plain": [
              "(8, 7)"
            ]
          },
          "metadata": {},
          "execution_count": 16
        }
      ],
      "source": [
        "np.size(X0), np.size(Y0)"
      ]
    },
    {
      "cell_type": "code",
      "execution_count": 17,
      "metadata": {
        "id": "LjsenELo7HQr"
      },
      "outputs": [],
      "source": [
        "model.load_state_dict(torch.load(PATH))\n",
        "\n",
        "src = Variable(torch.Tensor(X0.reshape(1,-1)) )\n",
        "src_mask = Variable(torch.ones(1,1,8))"
      ]
    },
    {
      "cell_type": "code",
      "execution_count": 18,
      "metadata": {
        "colab": {
          "base_uri": "https://localhost:8080/"
        },
        "id": "K4DksbCy7HQr",
        "outputId": "335ca2bb-4815-4797-a46e-8261ac509f50"
      },
      "outputs": [
        {
          "output_type": "stream",
          "name": "stdout",
          "text": [
            "actual: 0.14713217 prediction: 0.068229005\n"
          ]
        }
      ],
      "source": [
        "pred=greedy_decode(model, src, src_mask, max_len=8, start_symbol=1)\n",
        "\n",
        "print(\"actual:\", Y0[0][0][-1],\"prediction:\",pred.detach().numpy())"
      ]
    },
    {
      "cell_type": "markdown",
      "metadata": {
        "id": "BZxiEfEv7HQr"
      },
      "source": [
        "## Inference"
      ]
    },
    {
      "cell_type": "code",
      "source": [
        "# \n",
        "plt.plot(range(trainX.shape[0]),dataset[:trainX.shape[0]])\n",
        "plt.plot(range(trainX.shape[0],trainX.shape[0]+dataset[trainX.shape[0]:].shape[0],1),dataset[trainX.shape[0]:])\n",
        "plt.show()"
      ],
      "metadata": {
        "colab": {
          "base_uri": "https://localhost:8080/",
          "height": 279
        },
        "id": "Ppz195Nh9EB5",
        "outputId": "5b554aaf-badb-4932-a215-527884c448d0"
      },
      "execution_count": 19,
      "outputs": [
        {
          "output_type": "display_data",
          "data": {
            "text/plain": [
              "<Figure size 432x288 with 1 Axes>"
            ],
            "image/png": "[encoded data removed]"
          },
          "metadata": {
            "needs_background": "light"
          }
        }
      ]
    },
    {
      "cell_type": "code",
      "execution_count": 20,
      "metadata": {
        "colab": {
          "base_uri": "https://localhost:8080/"
        },
        "id": "IDc9yz6r7HQr",
        "outputId": "4a6ee67b-3119-4886-8669-582231278125"
      },
      "outputs": [
        {
          "output_type": "execute_result",
          "data": {
            "text/plain": [
              "((75, 8), (75,), (28, 8), (28,))"
            ]
          },
          "metadata": {},
          "execution_count": 20
        }
      ],
      "source": [
        "(trainX.shape, trainY.shape, testX.shape, testY.shape) #[len_dataset-look_back,look_back]"
      ]
    },
    {
      "cell_type": "markdown",
      "source": [
        "### Predict from test data\n",
        "\n"
      ],
      "metadata": {
        "id": "RCeb0IPqSteE"
      }
    },
    {
      "cell_type": "code",
      "execution_count": 21,
      "metadata": {
        "colab": {
          "base_uri": "https://localhost:8080/"
        },
        "id": "QKHhSaeR7HQs",
        "outputId": "1dc57f22-2da5-4478-dfde-40b9c5a148f9"
      },
      "outputs": [
        {
          "output_type": "execute_result",
          "data": {
            "text/plain": [
              "<All keys matched successfully>"
            ]
          },
          "metadata": {},
          "execution_count": 21
        }
      ],
      "source": [
        "model.load_state_dict(torch.load(PATH))"
      ]
    },
    {
      "cell_type": "code",
      "source": [
        "X0_begin=testX[0:-2]\n",
        "Y0_begin=testX[1:-1]\n",
        "\n",
        "X0_begin=X0_begin.reshape(X0_begin.shape[0],X0_begin.shape[1],1).astype(np.float32)\n",
        "Y0_begin=Y0_begin.reshape(Y0_begin.shape[0],Y0_begin.shape[1],1).astype(np.float32)"
      ],
      "metadata": {
        "id": "R4CfoQsZSoyS"
      },
      "execution_count": 22,
      "outputs": []
    },
    {
      "cell_type": "code",
      "source": [
        "X0_begin.shape, Y0_begin.shape, testY.shape"
      ],
      "metadata": {
        "colab": {
          "base_uri": "https://localhost:8080/"
        },
        "id": "i_wl_oiNTP6k",
        "outputId": "71184e0c-d3a8-44a8-b4e5-77e253eb3342"
      },
      "execution_count": 23,
      "outputs": [
        {
          "output_type": "execute_result",
          "data": {
            "text/plain": [
              "((26, 8, 1), (26, 8, 1), (28,))"
            ]
          },
          "metadata": {},
          "execution_count": 23
        }
      ]
    },
    {
      "cell_type": "code",
      "source": [
        "\n",
        "pred = []\n",
        "for place in range(X0_begin.shape[0]):\n",
        "  X0=X0_begin[place]\n",
        "  Y0=[Y0_begin[place][0:7].reshape(1,-1)]\n",
        "\n",
        "  src = Variable(torch.Tensor(X0.reshape(1,-1)) )\n",
        "  src_mask = Variable(torch.ones(1,1,8))\n",
        "  current_pred = greedy_decode(model, src, src_mask, max_len=8, start_symbol=1)\n",
        "\n",
        "  print('** Predicted Value: ', current_pred)\n",
        "  print('-- Actual Value: ', testY[place])\n",
        "  pred.append( current_pred.detach().numpy() )"
      ],
      "metadata": {
        "colab": {
          "base_uri": "https://localhost:8080/"
        },
        "id": "OrwC9oXmTOW5",
        "outputId": "b41ef067-1cd4-4692-b253-be46727bb4ca"
      },
      "execution_count": 24,
      "outputs": [
        {
          "output_type": "stream",
          "name": "stdout",
          "text": [
            "** Predicted Value:  tensor(0.7448, grad_fn=<SumBackward0>)\n",
            "-- Actual Value:  0.75062346\n",
            "** Predicted Value:  tensor(0.7709, grad_fn=<SumBackward0>)\n",
            "-- Actual Value:  0.62593514\n",
            "** Predicted Value:  tensor(1.5886, grad_fn=<SumBackward0>)\n",
            "-- Actual Value:  0.50374067\n",
            "** Predicted Value:  tensor(0.8125, grad_fn=<SumBackward0>)\n",
            "-- Actual Value:  0.41645885\n",
            "** Predicted Value:  tensor(1.0778, grad_fn=<SumBackward0>)\n",
            "-- Actual Value:  0.50374067\n",
            "** Predicted Value:  tensor(1.2532, grad_fn=<SumBackward0>)\n",
            "-- Actual Value:  0.52618456\n",
            "** Predicted Value:  tensor(1.2161, grad_fn=<SumBackward0>)\n",
            "-- Actual Value:  0.49127182\n",
            "** Predicted Value:  tensor(1.1878, grad_fn=<SumBackward0>)\n",
            "-- Actual Value:  0.62842894\n",
            "** Predicted Value:  tensor(0.9156, grad_fn=<SumBackward0>)\n",
            "-- Actual Value:  0.6084788\n",
            "** Predicted Value:  tensor(0.7192, grad_fn=<SumBackward0>)\n",
            "-- Actual Value:  0.62593514\n",
            "** Predicted Value:  tensor(0.8468, grad_fn=<SumBackward0>)\n",
            "-- Actual Value:  0.79301745\n",
            "** Predicted Value:  tensor(0.8448, grad_fn=<SumBackward0>)\n",
            "-- Actual Value:  0.90024936\n",
            "** Predicted Value:  tensor(0.8522, grad_fn=<SumBackward0>)\n",
            "-- Actual Value:  0.9052369\n",
            "** Predicted Value:  tensor(0.9678, grad_fn=<SumBackward0>)\n",
            "-- Actual Value:  0.74812967\n",
            "** Predicted Value:  tensor(1.1232, grad_fn=<SumBackward0>)\n",
            "-- Actual Value:  0.60598505\n",
            "** Predicted Value:  tensor(1.0619, grad_fn=<SumBackward0>)\n",
            "-- Actual Value:  0.50124687\n",
            "** Predicted Value:  tensor(1.4640, grad_fn=<SumBackward0>)\n",
            "-- Actual Value:  0.5785536\n",
            "** Predicted Value:  tensor(1.3308, grad_fn=<SumBackward0>)\n",
            "-- Actual Value:  0.5885287\n",
            "** Predicted Value:  tensor(1.3873, grad_fn=<SumBackward0>)\n",
            "-- Actual Value:  0.53366584\n",
            "** Predicted Value:  tensor(1.7387, grad_fn=<SumBackward0>)\n",
            "-- Actual Value:  0.64339155\n",
            "** Predicted Value:  tensor(0.9719, grad_fn=<SumBackward0>)\n",
            "-- Actual Value:  0.6084788\n",
            "** Predicted Value:  tensor(0.9267, grad_fn=<SumBackward0>)\n",
            "-- Actual Value:  0.6458853\n",
            "** Predicted Value:  tensor(0.9548, grad_fn=<SumBackward0>)\n",
            "-- Actual Value:  0.8254364\n",
            "** Predicted Value:  tensor(0.9635, grad_fn=<SumBackward0>)\n",
            "-- Actual Value:  0.9650873\n",
            "** Predicted Value:  tensor(0.8720, grad_fn=<SumBackward0>)\n",
            "-- Actual Value:  1.0\n",
            "** Predicted Value:  tensor(1.0360, grad_fn=<SumBackward0>)\n",
            "-- Actual Value:  0.74812967\n"
          ]
        }
      ]
    },
    {
      "cell_type": "code",
      "source": [
        "plt.plot(testY[:])\n"
      ],
      "metadata": {
        "colab": {
          "base_uri": "https://localhost:8080/",
          "height": 297
        },
        "id": "_CTn_DYLXafv",
        "outputId": "3fc7d051-7236-4678-99e9-1191c7de9b0c"
      },
      "execution_count": 25,
      "outputs": [
        {
          "output_type": "execute_result",
          "data": {
            "text/plain": [
              "[<matplotlib.lines.Line2D at 0x7fd10f5e6350>]"
            ]
          },
          "metadata": {},
          "execution_count": 25
        },
        {
          "output_type": "display_data",
          "data": {
            "text/plain": [
              "<Figure size 432x288 with 1 Axes>"
            ],
            "image/png": "[encoded data removed]"
          },
          "metadata": {
            "needs_background": "light"
          }
        }
      ]
    },
    {
      "cell_type": "code",
      "source": [
        "plt.plot(pred)"
      ],
      "metadata": {
        "colab": {
          "base_uri": "https://localhost:8080/",
          "height": 297
        },
        "id": "Sy5inH71XE00",
        "outputId": "64551b43-305a-4ec1-ab04-262d28790bdd"
      },
      "execution_count": 26,
      "outputs": [
        {
          "output_type": "execute_result",
          "data": {
            "text/plain": [
              "[<matplotlib.lines.Line2D at 0x7fd10f537fd0>]"
            ]
          },
          "metadata": {},
          "execution_count": 26
        },
        {
          "output_type": "display_data",
          "data": {
            "text/plain": [
              "<Figure size 432x288 with 1 Axes>"
            ],
            "image/png": "[encoded data removed]"
          },
          "metadata": {
            "needs_background": "light"
          }
        }
      ]
    },
    {
      "cell_type": "markdown",
      "source": [
        "### Predict from the last point"
      ],
      "metadata": {
        "id": "t2ox8MUGSpHY"
      }
    },
    {
      "cell_type": "code",
      "source": [
        "model.load_state_dict(torch.load(PATH))"
      ],
      "metadata": {
        "colab": {
          "base_uri": "https://localhost:8080/"
        },
        "id": "TtAQqjbOS2LT",
        "outputId": "bc54e083-9f59-4273-8d7d-433b3460ddfc"
      },
      "execution_count": 27,
      "outputs": [
        {
          "output_type": "execute_result",
          "data": {
            "text/plain": [
              "<All keys matched successfully>"
            ]
          },
          "metadata": {},
          "execution_count": 27
        }
      ]
    },
    {
      "cell_type": "code",
      "execution_count": 28,
      "metadata": {
        "id": "a9M9g8O-7HQs"
      },
      "outputs": [],
      "source": [
        "X0=trainX[0:-2]\n",
        "Y0=trainX[1:-1]\n",
        "\n",
        "X0=X0.reshape(X0.shape[0],X0.shape[1],1).astype(np.float32)\n",
        "Y0=Y0.reshape(Y0.shape[0],Y0.shape[1],1).astype(np.float32)"
      ]
    },
    {
      "cell_type": "code",
      "execution_count": 29,
      "metadata": {
        "colab": {
          "base_uri": "https://localhost:8080/"
        },
        "id": "ka3RZTkx7HQs",
        "outputId": "1372732a-0f55-480b-e8dc-095f062f4fc6"
      },
      "outputs": [
        {
          "output_type": "execute_result",
          "data": {
            "text/plain": [
              "((73, 8, 1), (73, 8, 1))"
            ]
          },
          "metadata": {},
          "execution_count": 29
        }
      ],
      "source": [
        "X0.shape, Y0.shape"
      ]
    },
    {
      "cell_type": "code",
      "execution_count": 30,
      "metadata": {
        "colab": {
          "base_uri": "https://localhost:8080/"
        },
        "id": "TXdVxls77HQs",
        "outputId": "99a41592-8045-4e0e-8664-8d600cadd230"
      },
      "outputs": [
        {
          "output_type": "stream",
          "name": "stdout",
          "text": [
            "** Predicted Value:  tensor(0.6579, grad_fn=<SumBackward0>)\n",
            "-- Actual Value:  [0.4114713]\n",
            "** Predicted Value:  tensor(0.6738, grad_fn=<SumBackward0>)\n",
            "-- Actual Value:  [0.41396508]\n",
            "** Predicted Value:  tensor(0.6282, grad_fn=<SumBackward0>)\n",
            "-- Actual Value:  [0.52618456]\n",
            "** Predicted Value:  tensor(0.7456, grad_fn=<SumBackward0>)\n",
            "-- Actual Value:  [0.648379]\n",
            "** Predicted Value:  tensor(0.9752, grad_fn=<SumBackward0>)\n",
            "-- Actual Value:  [0.60598505]\n",
            "** Predicted Value:  tensor(1.0706, grad_fn=<SumBackward0>)\n",
            "-- Actual Value:  [0.5187032]\n",
            "** Predicted Value:  tensor(0.9375, grad_fn=<SumBackward0>)\n",
            "-- Actual Value:  [0.42394015]\n",
            "** Predicted Value:  tensor(1.2959, grad_fn=<SumBackward0>)\n",
            "-- Actual Value:  [0.33167082]\n",
            "** Predicted Value:  tensor(1.0931, grad_fn=<SumBackward0>)\n",
            "-- Actual Value:  [0.4339152]\n",
            "** Predicted Value:  tensor(1.1364, grad_fn=<SumBackward0>)\n",
            "-- Actual Value:  [0.4488778]\n",
            "** Predicted Value:  tensor(1.6764, grad_fn=<SumBackward0>)\n",
            "-- Actual Value:  [0.43142146]\n",
            "** Predicted Value:  tensor(1.8709, grad_fn=<SumBackward0>)\n",
            "-- Actual Value:  [0.5311721]\n",
            "** Predicted Value:  tensor(1.6702, grad_fn=<SumBackward0>)\n",
            "-- Actual Value:  [0.521197]\n",
            "** Predicted Value:  tensor(1.9780, grad_fn=<SumBackward0>)\n",
            "-- Actual Value:  [0.53366584]\n",
            "** Predicted Value:  tensor(2.2108, grad_fn=<SumBackward0>)\n",
            "-- Actual Value:  [0.6733167]\n",
            "** Predicted Value:  tensor(2.0094, grad_fn=<SumBackward0>)\n",
            "-- Actual Value:  [0.77057356]\n",
            "** Predicted Value:  tensor(2.5478, grad_fn=<SumBackward0>)\n",
            "-- Actual Value:  [0.75062346]\n",
            "** Predicted Value:  tensor(2.9009, grad_fn=<SumBackward0>)\n",
            "-- Actual Value:  [0.62593514]\n",
            "** Predicted Value:  tensor(3.0262, grad_fn=<SumBackward0>)\n",
            "-- Actual Value:  [0.50374067]\n",
            "** Predicted Value:  tensor(3.7232, grad_fn=<SumBackward0>)\n",
            "-- Actual Value:  [0.41645885]\n",
            "** Predicted Value:  tensor(3.6865, grad_fn=<SumBackward0>)\n",
            "-- Actual Value:  [0.50374067]\n",
            "** Predicted Value:  tensor(3.7974, grad_fn=<SumBackward0>)\n",
            "-- Actual Value:  [0.52618456]\n",
            "** Predicted Value:  tensor(4.1828, grad_fn=<SumBackward0>)\n",
            "-- Actual Value:  [0.49127182]\n",
            "** Predicted Value:  tensor(4.8855, grad_fn=<SumBackward0>)\n",
            "-- Actual Value:  [0.62842894]\n",
            "** Predicted Value:  tensor(5.6125, grad_fn=<SumBackward0>)\n",
            "-- Actual Value:  [0.6084788]\n",
            "** Predicted Value:  tensor(6.5368, grad_fn=<SumBackward0>)\n",
            "-- Actual Value:  [0.62593514]\n",
            "** Predicted Value:  tensor(7.4891, grad_fn=<SumBackward0>)\n",
            "-- Actual Value:  [0.79301745]\n",
            "** Predicted Value:  tensor(7.2774, grad_fn=<SumBackward0>)\n",
            "-- Actual Value:  [0.90024936]\n"
          ]
        }
      ],
      "source": [
        "# predict from last point then forward\n",
        "place=-1\n",
        "\n",
        "pred = []\n",
        "X0=X0[place]\n",
        "Y0=[Y0[place][0:7].reshape(1,-1)]\n",
        "\n",
        "for forward_step in range(testX.shape[0]):\n",
        "  src = Variable(torch.Tensor(X0.reshape(1,-1)) )\n",
        "  src_mask = Variable(torch.ones(1,1,8))\n",
        "  current_pred = greedy_decode(model, src, src_mask, max_len=8, start_symbol=1)\n",
        "\n",
        "  print('** Predicted Value: ', current_pred)\n",
        "  print('-- Actual Value: ', dataset[trainX.shape[0]+forward_step])\n",
        "  pred.append( current_pred.detach().numpy() )\n",
        "\n",
        "  X0=np.append(X0[1:],[[current_pred.detach().numpy()]], axis=0)\n",
        "  Y0=[np.append(Y0,[[[current_pred.detach().numpy()]]]).reshape(1,-1)]"
      ]
    },
    {
      "cell_type": "code",
      "execution_count": 31,
      "metadata": {
        "colab": {
          "base_uri": "https://localhost:8080/",
          "height": 297
        },
        "id": "fNl83fxX7HQs",
        "outputId": "78f7778b-90d4-440f-f746-2ff223c17cf7"
      },
      "outputs": [
        {
          "output_type": "execute_result",
          "data": {
            "text/plain": [
              "[<matplotlib.lines.Line2D at 0x7fd10f526990>]"
            ]
          },
          "metadata": {},
          "execution_count": 31
        },
        {
          "output_type": "display_data",
          "data": {
            "text/plain": [
              "<Figure size 432x288 with 1 Axes>"
            ],
            "image/png": "[encoded data removed]"
          },
          "metadata": {
            "needs_background": "light"
          }
        }
      ],
      "source": [
        "plt.plot(dataset[trainX.shape[0]:trainX.shape[0]+testX.shape[0]])"
      ]
    },
    {
      "cell_type": "code",
      "execution_count": 32,
      "metadata": {
        "colab": {
          "base_uri": "https://localhost:8080/",
          "height": 297
        },
        "id": "-XEOGVXF7HQt",
        "outputId": "589e1bb1-901b-4dbd-c1a0-29fcef7e9f53"
      },
      "outputs": [
        {
          "output_type": "execute_result",
          "data": {
            "text/plain": [
              "[<matplotlib.lines.Line2D at 0x7fd10f482b10>]"
            ]
          },
          "metadata": {},
          "execution_count": 32
        },
        {
          "output_type": "display_data",
          "data": {
            "text/plain": [
              "<Figure size 432x288 with 1 Axes>"
            ],
            "image/png": "[encoded data removed]"
          },
          "metadata": {
            "needs_background": "light"
          }
        }
      ],
      "source": [
        "plt.plot(pred)"
      ]
    },
    {
      "cell_type": "markdown",
      "source": [
        "## Metrics"
      ],
      "metadata": {
        "id": "4fAboUKJP1KS"
      }
    },
    {
      "cell_type": "code",
      "source": [
        "# RMSE\n",
        "mean_squared_error(y_true= dataset[trainX.shape[0]:trainX.shape[0]+testX.shape[0]], y_pred = pred)\n"
      ],
      "metadata": {
        "colab": {
          "base_uri": "https://localhost:8080/"
        },
        "id": "34g86yJ0D5ix",
        "outputId": "2bb97fcf-40dc-402a-f612-ab0f04d317ac"
      },
      "execution_count": 33,
      "outputs": [
        {
          "output_type": "execute_result",
          "data": {
            "text/plain": [
              "8.468113"
            ]
          },
          "metadata": {},
          "execution_count": 33
        }
      ]
    }
  ],
  "metadata": {
    "kernelspec": {
      "display_name": "Python 3.8.8 ('base')",
      "language": "python",
      "name": "python3"
    },
    "language_info": {
      "codemirror_mode": {
        "name": "ipython",
        "version": 3
      },
      "file_extension": ".py",
      "mimetype": "text/x-python",
      "name": "python",
      "nbconvert_exporter": "python",
      "pygments_lexer": "ipython3",
      "version": "3.8.8"
    },
    "orig_nbformat": 4,
    "vscode": {
      "interpreter": {
        "hash": "40d3a090f54c6569ab1632332b64b2c03c39dcf918b08424e98f38b5ae0af88f"
      }
    },
    "colab": {
      "provenance": []
    }
  },
  "nbformat": 4,
  "nbformat_minor": 0
}